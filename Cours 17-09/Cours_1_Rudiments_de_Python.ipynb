{
 "cells": [
  {
   "cell_type": "markdown",
   "metadata": {},
   "source": [
    "# Séance 1 : Rudiments de Python et d'informatique quantique\n",
    "\n",
    "\n",
    "## Introduction\n",
    "\n",
    "\n",
    "Dans ce notebook, nous nous exercerons à utiliser des outils classiques qui nous seront utiles pour étudier en toute tranquillité la bibliothèque quantique Qiskit. Il s'agit d'avoir des méthodes utiles pour les prochaines séances. *Les réponses sont donc attendues sous forme de méthodes et non directement écrites à la main (sauf exception).*\n",
    "\n",
    "Ceux-ci sont :\n",
    "\n",
    "- La conversion de nombres de base 2 à base 10, et vice versa ;\n",
    "- Les dictionnaires ;\n",
    "- Les histogrammes.\n",
    "\n",
    "### Nom et prénom\n",
    "\n",
    "\n",
    "Commençons par inscrire votre nom et prénom en tant qu'objet string nom_prenom. Nous utiliserons comme convention :\n",
    "\n",
    "- Un _ séparera le nom et le prénom.\n",
    "\n",
    "Ainsi :\n",
    "\n",
    "- Pour Jean-Pierre Pernault, nom_prenom = 'Pernault_Jean-Pierre'."
   ]
  },
  {
   "cell_type": "code",
   "execution_count": 7,
   "metadata": {},
   "outputs": [],
   "source": [
    "nom_prenom = \" \""
   ]
  },
  {
   "cell_type": "markdown",
   "metadata": {},
   "source": [
    "## Introduction : Les listes et les dictionnaires\n",
    "\n",
    "Avant de débuter la vraie programmation quantique, quelques bases de Python sont nécessaires. Ici, pas besoin d'apprendre à manipuler des classes ou des fonctions complexes. En quantique, on manipule les variables du système, les qubits, avec des listes et des dictionnaires. Il est donc nécessaire d'être à l'aise avec la manipulation de ces objets en Python afin d'aisément comprendre les prochains TPs. Voici quelques fonctions de base :"
   ]
  },
  {
   "cell_type": "markdown",
   "metadata": {},
   "source": [
    "Déclarer une liste :"
   ]
  },
  {
   "cell_type": "code",
   "execution_count": 8,
   "metadata": {},
   "outputs": [
    {
     "data": {
      "text/plain": [
       "[8, 5, 3]"
      ]
     },
     "execution_count": 8,
     "metadata": {},
     "output_type": "execute_result"
    }
   ],
   "source": [
    "liste = [8,5,3]\n",
    "liste"
   ]
  },
  {
   "cell_type": "markdown",
   "metadata": {},
   "source": [
    "Trouver la longueur d'une liste :"
   ]
  },
  {
   "cell_type": "code",
   "execution_count": 9,
   "metadata": {},
   "outputs": [
    {
     "data": {
      "text/plain": [
       "3"
      ]
     },
     "execution_count": 9,
     "metadata": {},
     "output_type": "execute_result"
    }
   ],
   "source": [
    "len(liste)"
   ]
  },
  {
   "cell_type": "markdown",
   "metadata": {},
   "source": [
    "Ajouter un élément à une liste :"
   ]
  },
  {
   "cell_type": "code",
   "execution_count": 10,
   "metadata": {},
   "outputs": [
    {
     "data": {
      "text/plain": [
       "[8, 5, 3, 4]"
      ]
     },
     "execution_count": 10,
     "metadata": {},
     "output_type": "execute_result"
    }
   ],
   "source": [
    "liste.append(4)\n",
    "liste"
   ]
  },
  {
   "cell_type": "markdown",
   "metadata": {},
   "source": [
    "Retirer un élément à une liste .Le référencement se fait via l'index, pas la valeur. La fonction liste.pop() sans argument supprime le dernier élément de la liste et renvoie sa valeur. Dans cet exemple, la fonction supprime l'élément à l'index 2 de la liste, qui vaut 3 (l'indexation commence à 0, pour rappel) :"
   ]
  },
  {
   "cell_type": "code",
   "execution_count": 11,
   "metadata": {},
   "outputs": [
    {
     "data": {
      "text/plain": [
       "[8, 5, 4]"
      ]
     },
     "execution_count": 11,
     "metadata": {},
     "output_type": "execute_result"
    }
   ],
   "source": [
    "index = 2\n",
    "\n",
    "liste.pop(index)\n",
    "liste"
   ]
  },
  {
   "cell_type": "markdown",
   "metadata": {},
   "source": [
    "Déclarer un dictionnaire :"
   ]
  },
  {
   "cell_type": "code",
   "execution_count": 12,
   "metadata": {},
   "outputs": [
    {
     "data": {
      "text/plain": [
       "{'a': 1, 'b': 3, 'c': 8}"
      ]
     },
     "execution_count": 12,
     "metadata": {},
     "output_type": "execute_result"
    }
   ],
   "source": [
    "dico = {'a': 1, 'b': 3, 'c': 8}\n",
    "dico"
   ]
  },
  {
   "cell_type": "markdown",
   "metadata": {},
   "source": [
    "Ajouter un élémnent à un dictionnaire :"
   ]
  },
  {
   "cell_type": "code",
   "execution_count": 13,
   "metadata": {},
   "outputs": [
    {
     "data": {
      "text/plain": [
       "{'a': 1, 'b': 3, 'c': 8, 'd': 5}"
      ]
     },
     "execution_count": 13,
     "metadata": {},
     "output_type": "execute_result"
    }
   ],
   "source": [
    "dico.update({'d':5})\n",
    "dico"
   ]
  },
  {
   "cell_type": "markdown",
   "metadata": {},
   "source": [
    "Supprimer un élément d'un dictionnaire :"
   ]
  },
  {
   "cell_type": "code",
   "execution_count": 14,
   "metadata": {},
   "outputs": [
    {
     "data": {
      "text/plain": [
       "{'a': 1, 'b': 3, 'd': 5}"
      ]
     },
     "execution_count": 14,
     "metadata": {},
     "output_type": "execute_result"
    }
   ],
   "source": [
    "dico.pop('c')\n",
    "dico"
   ]
  },
  {
   "cell_type": "markdown",
   "metadata": {},
   "source": [
    "Trouver un élément d'un dictionnaire avec sa clé :"
   ]
  },
  {
   "cell_type": "code",
   "execution_count": 15,
   "metadata": {},
   "outputs": [
    {
     "data": {
      "text/plain": [
       "3"
      ]
     },
     "execution_count": 15,
     "metadata": {},
     "output_type": "execute_result"
    }
   ],
   "source": [
    "dico['b']"
   ]
  },
  {
   "cell_type": "markdown",
   "metadata": {},
   "source": [
    "Autres fonction utiles :"
   ]
  },
  {
   "cell_type": "code",
   "execution_count": 16,
   "metadata": {},
   "outputs": [
    {
     "name": "stdout",
     "output_type": "stream",
     "text": [
      "8\n",
      "5\n",
      "4\n"
     ]
    }
   ],
   "source": [
    "for elem in liste : #Itérer sur les éléments d'une liste (idem avec les clés d'un dictionnaire)\n",
    "    print(elem)"
   ]
  },
  {
   "cell_type": "code",
   "execution_count": 17,
   "metadata": {},
   "outputs": [
    {
     "data": {
      "text/plain": [
       "'1001'"
      ]
     },
     "execution_count": 17,
     "metadata": {},
     "output_type": "execute_result"
    }
   ],
   "source": [
    "integer = 1001\n",
    "integer_en_texte = str(integer) #Permet d'afficher un nombre en une chaine de caractères\n",
    "integer_en_texte"
   ]
  },
  {
   "cell_type": "code",
   "execution_count": 18,
   "metadata": {},
   "outputs": [
    {
     "data": {
      "text/plain": [
       "1001"
      ]
     },
     "execution_count": 18,
     "metadata": {},
     "output_type": "execute_result"
    }
   ],
   "source": [
    "integer_a_nouveau = int(integer_en_texte) #Permet de convertir une chaine de caractère en un nombre (entier)\n",
    "integer_a_nouveau"
   ]
  },
  {
   "cell_type": "markdown",
   "metadata": {},
   "source": [
    "## Exercices\n",
    "\n",
    "\n",
    "### Conversion : base 2 et base 10\n",
    "\n",
    "\n",
    "Le plus important à retenir dans cette partie est que la bibliothèque Qiskit utilise la *convention du bit de poids faible en premier* que nous abrégerons par LSBF (Least significant bit first). L'autre convention est appelée *convention du bit de poids fort en premier*, abrégé MSBF (Most significant bit first).\n",
    "\n",
    "Lors de cet exercice, il faudra être capable de :\n",
    "\n",
    "- Convertir un objet dans la convention LSBF en objet en base 10, et vice versa ;\n",
    "- Convertir un objet dans la convention LSBF vers un objet dans la convention MSBF, et vice versa.\n",
    "\n",
    "\n",
    "**1) Convertissez les objets en base 10 suivants en objets sous la convention LSBF** "
   ]
  },
  {
   "cell_type": "code",
   "execution_count": 3,
   "metadata": {},
   "outputs": [],
   "source": [
    "a = 1\n",
    "b = 13\n",
    "c = [1, 9, 0, 11, 9, 7, 8, 3, 5, 5, 4, 2, 8, 1, 9, 1, 10, 14, 13, 10, 3, 5, 1, 5, 2, 13, 2, 5, 13, 4, 12, 7, 9, 2, 12, 13, 12, 4, 0, 6, 1, 11, 7, 8, 2, 3, 9, 13, 3, 14, 3, 14, 2, 11, 11, 4, 9, 9, 0, 14, 4, 13, 7, 4, 7, 1, 6, 10, 8, 10, 6, 7, 12, 5, 11, 10, 3, 7, 3, 7, 5, 3, 11, 2, 14, 13, 12, 4, 4, 11, 12, 1, 11, 9, 4, 14, 2, 9, 12, 10]\n",
    "\n",
    "def from_10_to_LSBF(number, length):\n",
    "    \n",
    "\n",
    "bin_a = from_10_to_LSBF(a, 1)\n",
    "bin_b = from_10_to_LSBF(b, 4)\n",
    "bin_c = from_10_to_LSBF(c, 4)\n",
    "\n"
   ]
  },
  {
   "cell_type": "code",
   "execution_count": null,
   "metadata": {},
   "outputs": [],
   "source": [
    "assert bin_a == '1'"
   ]
  },
  {
   "cell_type": "code",
   "execution_count": null,
   "metadata": {},
   "outputs": [],
   "source": [
    "assert bin_b == '1011'"
   ]
  },
  {
   "cell_type": "code",
   "execution_count": null,
   "metadata": {},
   "outputs": [],
   "source": [
    "assert bin_c == ['1000', '1001', '0000', '1101', '1001', '1110', '0001', '1100', '1010', '1010', '0010', '0100', '0001', '1000', '1001', '1000', '0101', '0111', '1011', '0101', '1100', '1010', '1000', '1010', '0100', '1011', '0100', '1010', '1011', '0010', '0011', '1110', '1001', '0100', '0011', '1011', '0011', '0010', '0000', '0110', '1000', '1101', '1110', '0001', '0100', '1100', '1001', '1011', '1100', '0111', '1100', '0111', '0100', '1101', '1101', '0010', '1001', '1001', '0000', '0111', '0010', '1011', '1110', '0010', '1110', '1000', '0110', '0101', '0001', '0101', '0110', '1110', '0011', '1010', '1101', '0101', '1100', '1110', '1100', '1110', '1010', '1100', '1101', '0100', '0111', '1011', '0011', '0010', '0010', '1101', '0011', '1000', '1101', '1001', '0010', '0111', '0100', '1001', '0011', '0101']"
   ]
  },
  {
   "cell_type": "markdown",
   "metadata": {},
   "source": [
    "**2) Convertissez les objets sous la convention LSBF suivants en objets en base 10** "
   ]
  },
  {
   "cell_type": "code",
   "execution_count": null,
   "metadata": {},
   "outputs": [],
   "source": [
    "bin_d = '110'\n",
    "bin_e = '0101'\n",
    "bin_f = ['111', '011', '1001', '1011', '11', '0011', '111', '0101', '0001', '111', '1001', '01', '0001', '011', '0011', '011', '111', '0111', '0111', '0001', '001', '01', '0', '1101', '0011', '1011', '11', '0101', '1101', '111', '0111', '0101', '1101', '1', '1101', '0101', '1101', '1011', '0101', '1', '1001', '101', '1', '0101', '1', '111', '1011', '011', '101', '1001', '1101', '1', '0011', '0111', '011', '1001', '011', '0', '011', '101', '0101', '0011', '1', '1', '0011', '0011', '0001', '1', '1', '1011', '0111', '111', '11', '0111', '0011', '11', '0001', '1', '11', '0011', '0', '011', '0101', '0011', '0011', '111', '111', '011', '0', '01', '011', '0011', '0111', '111', '0101', '0101', '1001', '01', '0001', '01']\n",
    "\n",
    "\n",
    "def from_LSBF_to_10(binary):\n",
    "    \n",
    "\n",
    "d = from_LSBF_to_10(bin_d)\n",
    "e = from_LSBF_to_10(bin_e)\n",
    "f = from_LSBF_to_10(bin_f)"
   ]
  },
  {
   "cell_type": "code",
   "execution_count": null,
   "metadata": {},
   "outputs": [],
   "source": [
    "assert d == 3"
   ]
  },
  {
   "cell_type": "code",
   "execution_count": null,
   "metadata": {},
   "outputs": [],
   "source": [
    "assert e == 10"
   ]
  },
  {
   "cell_type": "code",
   "execution_count": null,
   "metadata": {},
   "outputs": [],
   "source": [
    "assert f ==  [7, 6, 9, 13, 3, 12, 7, 10, 8, 7, 9, 2, 8, 6, 12, 6, 7, 14, 14, 8, 4, 2, 0, 11, 12, 13, 3, 10, 11, 7, 14, 10, 11, 1, 11, 10, 11, 13, 10, 1, 9, 5, 1, 10, 1, 7, 13, 6, 5, 9, 11, 1, 12, 14, 6, 9, 6, 0, 6, 5, 10, 12, 1, 1, 12, 12, 8, 1, 1, 13, 14, 7, 3, 14, 12, 3, 8, 1, 3, 12, 0, 6, 10, 12, 12, 7, 7, 6, 0, 2, 6, 12, 14, 7, 10, 10, 9, 2, 8, 2]"
   ]
  },
  {
   "cell_type": "markdown",
   "metadata": {},
   "source": [
    "**3) Convertissez les objets sous la convention LSBF suivants en objets sous la convention MSBF**"
   ]
  },
  {
   "cell_type": "code",
   "execution_count": null,
   "metadata": {},
   "outputs": [],
   "source": [
    "LSBF_a = '0'\n",
    "LSBF_b = '101'\n",
    "LSBF_c = bin_f\n",
    "\n",
    "def from_LSBF_to_MSBF(binary):\n",
    "    \n",
    "\n",
    "MSBF_a = from_MSBF_to_LSBF(LSBF_a)\n",
    "MSBF_b = from_MSBF_to_LSBF(LSBF_b)\n",
    "MSBF_c = from_MSBF_to_LSBF(LSBF_c)"
   ]
  },
  {
   "cell_type": "code",
   "execution_count": null,
   "metadata": {},
   "outputs": [],
   "source": [
    "assert MSBF_a == '0'"
   ]
  },
  {
   "cell_type": "code",
   "execution_count": null,
   "metadata": {},
   "outputs": [],
   "source": [
    "assert MSBF_b == '101'"
   ]
  },
  {
   "cell_type": "code",
   "execution_count": null,
   "metadata": {},
   "outputs": [],
   "source": [
    "assert MSBF_c == ['111', '110', '1001', '1101', '11', '1100', '111', '1010', '1000', '111', '1001', '10', '1000', '110', '1100', '110', '111', '1110', '1110', '1000', '100', '10', '0', '1011', '1100', '1101', '11', '1010', '1011', '111', '1110', '1010', '1011', '1', '1011', '1010', '1011', '1101', '1010', '1', '1001', '101', '1', '1010', '1', '111', '1101', '110', '101', '1001', '1011', '1', '1100', '1110', '110', '1001', '110', '0', '110', '101', '1010', '1100', '1', '1', '1100', '1100', '1000', '1', '1', '1101', '1110', '111', '11', '1110', '1100', '11', '1000', '1', '11', '1100', '0', '110', '1010', '1100', '1100', '111', '111', '110', '0', '10', '110', '1100', '1110', '111', '1010', '1010', '1001', '10', '1000', '10']"
   ]
  },
  {
   "cell_type": "markdown",
   "metadata": {},
   "source": [
    "### Dictionnaires\n",
    "\n",
    "Les dictionnaires sont des objets Python qui sont très utilisés dans Qiskit. Ils permettront notamment de conserver les résultats de mesure. Nous devons donc savoir les manier pour être à l'aise avec Qiskit.\n",
    "\n",
    "Durant cet exercice, il faudra être capable de :\n",
    "\n",
    "- Créer un dictionnaire *ex nihilo* ou à partir d'une liste ;\n",
    "- Réorganiser les éléments d'un dictionnaire ;\n",
    "- Récupérer des éléments d'un dictionnaire ;\n",
    "- Modifier les clés d'un dictionnaire.\n",
    "\n",
    "**1) Créez un dictionnaire** *tarte* **de deux éléments ayant respectivement les clés (exception) :**\n",
    "\n",
    "-  **La clé 'allumette_g' pour la valeur 200 ;**\n",
    "-  **La clé 'crème_cl' pour la valeur 20 ;**\n",
    "-  **La clé 'cumin_cuillèrecafé' pour la valeur 0.5 ;**\n",
    "-  **La clé 'oeuf' pour la valeur 3 ;**\n",
    "-  **La clé 'pâte_brisée' pour la valeur 1 ;**\n",
    "-  **La clé 'poireau' pour la valeur 2 ;**\n",
    "-  **La clé 'poivre_pincée' pour la valeur1.**"
   ]
  },
  {
   "cell_type": "code",
   "execution_count": null,
   "metadata": {},
   "outputs": [],
   "source": [
    "tarte = "
   ]
  },
  {
   "cell_type": "code",
   "execution_count": null,
   "metadata": {},
   "outputs": [],
   "source": [
    "assert tarte['poireau'] == 2\n",
    "assert tarte['allumette_g'] == 200\n",
    "assert tarte['crème_cl'] == 20\n",
    "assert tarte['oeuf'] == 3\n",
    "assert tarte['pâte_brisée'] == 1\n",
    "assert tarte['poivre_pincée'] == 1\n",
    "assert tarte['cumin_cuillèrecafé'] == 0.5"
   ]
  },
  {
   "cell_type": "markdown",
   "metadata": {},
   "source": [
    "**2) Créez un dictionnaire à partir de la liste suivante où les valeurs correspondent aux variables de la liste**"
   ]
  },
  {
   "cell_type": "code",
   "execution_count": null,
   "metadata": {},
   "outputs": [],
   "source": [
    "position = ['avion', 'voiture', 'train']\n",
    "\n",
    "def values_of_dic(valeurs):\n",
    "    \n",
    "\n",
    "dic1 = values_of_dic(position)"
   ]
  },
  {
   "cell_type": "code",
   "execution_count": null,
   "metadata": {},
   "outputs": [],
   "source": [
    "assert dic1[0] == 'avion'\n",
    "assert dic1[1] == 'voiture'\n",
    "assert dic1[2] == 'train'"
   ]
  },
  {
   "cell_type": "markdown",
   "metadata": {},
   "source": [
    "**3) Créez un dictionnaire à partir de la liste précédente où les clés du dictionnaire correspondent aux variables de la liste**"
   ]
  },
  {
   "cell_type": "code",
   "execution_count": null,
   "metadata": {},
   "outputs": [],
   "source": [
    "def keys_of_dic(valeurs):\n",
    "    \n",
    "\n",
    "dic2 = keys_of_dic(position)"
   ]
  },
  {
   "cell_type": "code",
   "execution_count": null,
   "metadata": {},
   "outputs": [],
   "source": [
    "assert dic2['avion'] == 0\n",
    "assert dic2['voiture'] == 1\n",
    "assert dic2['train'] == 2"
   ]
  },
  {
   "cell_type": "markdown",
   "metadata": {},
   "source": [
    "**4) Créez un sous-dictionnaire à partir de** *tarte* **tel qu'il n'y ait que :** \n",
    "\n",
    "-  **La clé 'cumin_cuillèrecafé' pour la valeur 0.5 ;**\n",
    "-  **La clé 'poivre_pincée' pour la valeur1.**"
   ]
  },
  {
   "cell_type": "code",
   "execution_count": null,
   "metadata": {},
   "outputs": [],
   "source": [
    "cles = [\"cumin_cuillèrecafé\", \"poivre_pincée\"]\n",
    "\n",
    "def sous_dic(dic, keys):\n",
    "\n",
    "epices = sous_dic(tarte, cles)"
   ]
  },
  {
   "cell_type": "code",
   "execution_count": null,
   "metadata": {},
   "outputs": [],
   "source": [
    "assert len(epices) == 2\n",
    "assert epices['cumin_cuillèrecafé'] == 0.5\n",
    "assert epices['poivre_pincée'] == 1"
   ]
  },
  {
   "cell_type": "markdown",
   "metadata": {},
   "source": [
    "**5) Réorganisez le dictionnaire pour que les valeurs soient organisées par ordre croissant des valeurs**\n",
    "\n",
    "*Le résultat doit être retourné sous la forme d'un dictionnaire, pas d'une liste !*"
   ]
  },
  {
   "cell_type": "code",
   "execution_count": 10,
   "metadata": {},
   "outputs": [
    {
     "name": "stdout",
     "output_type": "stream",
     "text": [
      "{0: 77, 1: 84, 2: 91, 3: 98, 4: 0, 5: 7, 6: 14, 7: 21, 8: 28, 9: 35, 10: 42, 11: 49, 12: 56, 13: 63, 14: 70}\n"
     ]
    }
   ],
   "source": [
    "dic = {i:[(j - 23) % 100 for j in range(100) if ((j - 23) % 100) % 7 == 0][i] for i in range(15)}\n",
    "\n",
    "print(dic)"
   ]
  },
  {
   "cell_type": "code",
   "execution_count": null,
   "metadata": {},
   "outputs": [],
   "source": [
    "def dic_reorganise(dico):\n",
    "    \n",
    "\n",
    "sorted_dic = dic_reorganise(dic)"
   ]
  },
  {
   "cell_type": "code",
   "execution_count": null,
   "metadata": {},
   "outputs": [],
   "source": [
    "for i in range(len(sorted_dic) - 1):\n",
    "    assert sorted_dic[i] < sorted_dic[i + 1]\n",
    "    \n",
    "assert type(sorted_dic) == dict"
   ]
  },
  {
   "cell_type": "markdown",
   "metadata": {},
   "source": [
    "**6) Récupérez le sous-dictionnaire de** *dic* **tel que les valeur comprises dans le dictionnaire ne soient que des multiples de 3**\n",
    "\n",
    "*On parle ici des valeurs, pas des clés. Ex : {\"21\": 14} n'est pas une solution valide, mais {\"2\":15} l'est*"
   ]
  },
  {
   "cell_type": "code",
   "execution_count": null,
   "metadata": {},
   "outputs": [],
   "source": [
    "def multiple_3(dico):\n",
    "    \n",
    "\n",
    "multiple = multiple_3(sorted_dic)"
   ]
  },
  {
   "cell_type": "code",
   "execution_count": null,
   "metadata": {},
   "outputs": [],
   "source": [
    "for i in range(len(multiple)):\n",
    "    assert multiple[i] % 3 == 0"
   ]
  },
  {
   "cell_type": "markdown",
   "metadata": {},
   "source": [
    "### Histogrammes\n",
    "\n",
    "\n",
    "Les histogrammes sont aussi importants pour la bibliothèque Qiskit : c'est ainsi que sont représentés les mesures.\n",
    "\n",
    "Lors de cet exercice, il faudra être capable de :\n",
    "\n",
    "- Construire une distribution statistique qui suit une loi normale (ou loi gaussienne) ;\n",
    "- Représenter cette distribution statistique dans un histogramme.\n",
    "\n",
    "**1) Créez une distribution statistique qui suit une loi normale (exception) :**\n",
    "\n",
    "- **Centrée en mu égal à 4 ;**\n",
    "- **Avec un écart-type sigma égal à 1 ;**\n",
    "- **Avec une taille d'échantillon N égal à 10000.**"
   ]
  },
  {
   "cell_type": "code",
   "execution_count": null,
   "metadata": {},
   "outputs": [],
   "source": [
    "import numpy as np\n",
    "\n",
    "mu = 4\n",
    "sigma = 1\n",
    "N = 10000\n",
    "\n",
    "dist = "
   ]
  },
  {
   "cell_type": "code",
   "execution_count": null,
   "metadata": {},
   "outputs": [],
   "source": [
    "from math import isclose\n",
    "import numpy as np\n",
    "\n",
    "assert mu == 4 and sigma == 1 and N == 10000\n",
    "assert isclose(np.mean(dist), 4, rel_tol=0.1) and isclose(np.std(dist), 1, rel_tol=0.1) and len(dist) == 10000"
   ]
  },
  {
   "cell_type": "markdown",
   "metadata": {},
   "source": [
    "**2) Représentez cette distribution statistique (exception) dans un histogramme avec** :\n",
    "\n",
    "- **Un nombre de bins égal à 100 ;**\n",
    "- **L'axe des abscisses \"Votre nom et prénom\" ;**\n",
    "- **L'axe des ordonnées \"Distribution statistique\". (exception)**"
   ]
  },
  {
   "cell_type": "code",
   "execution_count": null,
   "metadata": {},
   "outputs": [],
   "source": [
    "import matplotlib.pyplot as plt\n",
    "\n"
   ]
  },
  {
   "cell_type": "markdown",
   "metadata": {},
   "source": [
    "### Exercice final\n",
    "\n",
    "Nous allons créer un histogramme que nous pourrions récupérer après simulation de mesure sur Qiskit. Celui-ci représentera un état de Bell qui est un état intriqué.\n",
    "\n",
    "Ainsi, les mesures dans la base 2 (sous les conventions LSBF et MSBF) ne peuvent donner que '00' ou '11', et ce avec une fréquence quasiment égale - nous prenons en compte un effet statistique. Autrement dit, dans la base 10, nous devons mesurer uniquement les valeurs 0 ou 3."
   ]
  },
  {
   "cell_type": "code",
   "execution_count": null,
   "metadata": {},
   "outputs": [],
   "source": [
    "import matplotlib.pyplot as plt\n",
    "\n",
    "np.random.seed(30)\n",
    "\n",
    "shots = 8096 # Nb de mesures -- correspond au nb max de mesures en une seule fois par un ordinateur quantique d'IBM"
   ]
  },
  {
   "cell_type": "markdown",
   "metadata": {},
   "source": [
    "**1) Créez la distribution statistique modélisant les mesures**"
   ]
  },
  {
   "cell_type": "code",
   "execution_count": null,
   "metadata": {},
   "outputs": [],
   "source": [
    "mesures = "
   ]
  },
  {
   "cell_type": "markdown",
   "metadata": {},
   "source": [
    "**2) Créez un dictionnaire tel que les valeurs** *dic_mesures[chaîne binaire]* **corresponde au nombre d'apparition de la chaîne binaire dans les mesures (exception)**"
   ]
  },
  {
   "cell_type": "code",
   "execution_count": null,
   "metadata": {},
   "outputs": [],
   "source": [
    "dic_mesures = "
   ]
  },
  {
   "cell_type": "code",
   "execution_count": null,
   "metadata": {},
   "outputs": [],
   "source": [
    "from math import isclose\n",
    "assert isclose(dic_mesures['00'], 4048, rel_tol=0.2) and isclose(dic_mesures['11'], 4048, rel_tol=0.2)\n",
    "assert dic_mesures['00'] + dic_mesures['11'] == shots"
   ]
  },
  {
   "cell_type": "markdown",
   "metadata": {},
   "source": [
    "**3) Créez un dictionnaire contenant les valeurs non-nulles de** *dic_mesures*"
   ]
  },
  {
   "cell_type": "code",
   "execution_count": null,
   "metadata": {},
   "outputs": [],
   "source": [
    "qiskit_mesures = "
   ]
  },
  {
   "cell_type": "code",
   "execution_count": null,
   "metadata": {},
   "outputs": [],
   "source": [
    "assert isclose(qiskit_mesures['00'], 4048, rel_tol=0.2) and isclose(qiskit_mesures['11'], 4048, rel_tol=0.2)\n",
    "assert '01' not in qiskit_mesures.keys() and '10' not in qiskit_mesures.keys()"
   ]
  },
  {
   "cell_type": "markdown",
   "metadata": {},
   "source": [
    "Le dictionnaire final que vous obtiendrez est typiquement le genre d'objets que vous récupérerez à la fin des mesures sur Qiskit et qui vous permettra de construire un histogramme pour visualiser les résultats.\n",
    "\n",
    "Nous ferons autrement ici puisqu'il est bien sûr possible d'utiliser directement la liste de mesures.\n",
    "\n",
    "**4) Créez et affichez un histogramme des mesures en ayant étiquetté (exception) :**\n",
    "\n",
    "- **Un nombre de bins égal à 20 ;**\n",
    "- **L'axe des abscisses \"Etat mesuré -- Votre nom et prénom\" ;**\n",
    "- **L'axe des ordonnées \"Nombre de mesures\" (exception).**"
   ]
  },
  {
   "cell_type": "code",
   "execution_count": null,
   "metadata": {},
   "outputs": [],
   "source": []
  },
  {
   "cell_type": "code",
   "execution_count": null,
   "metadata": {},
   "outputs": [],
   "source": []
  },
  {
   "cell_type": "code",
   "execution_count": null,
   "metadata": {},
   "outputs": [],
   "source": []
  }
 ],
 "metadata": {
  "kernelspec": {
   "display_name": "Python 3 (ipykernel)",
   "language": "python",
   "name": "python3"
  },
  "language_info": {
   "codemirror_mode": {
    "name": "ipython",
    "version": 3
   },
   "file_extension": ".py",
   "mimetype": "text/x-python",
   "name": "python",
   "nbconvert_exporter": "python",
   "pygments_lexer": "ipython3",
   "version": "3.10.9"
  }
 },
 "nbformat": 4,
 "nbformat_minor": 2
}
