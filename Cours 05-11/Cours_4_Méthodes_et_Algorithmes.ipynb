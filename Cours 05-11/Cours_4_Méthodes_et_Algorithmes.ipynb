{
 "cells": [
  {
   "cell_type": "markdown",
   "metadata": {},
   "source": [
    "# Cours 4: Méthodes et algorithmes\n",
    "\n",
    "## Introduction\n",
    "\n",
    "Lors des précédentes séances, nous avons vu comment :\n",
    "\n",
    "- construire et mesurer un circuit quantique ;\n",
    "- implémenter une méthode permettant de rajouter une porte quantique à un circuit ;\n",
    "- implémenter la transformée de Fourier quantique pour un nombre donné de qubits ;\n",
    "- comment implémenter l'inverse d'une opération quantique dont la transformée de Fourier quantique ;\n",
    "\n",
    "Dans le cadre de séance, nous verrons :\n",
    "\n",
    "- comment implémenter une estimation de phase.\n",
    "- comment gagner de la modularité grâce aux objets Gate ;\n",
    "- une mise en pratique d'utilisation de ces objets Gate.\n",
    "\n",
    "Pour cela, nous diviserons la séance en :\n",
    "\n",
    "- L'algorithme d'estimation de phase\n",
    "- une présentation des objets Gate ;\n",
    "- des exercices d'appropriation de ces objets ;\n",
    "- une démonstration du gain de modularité avec l'exemple d'un *do_swaps* contrôlé.\n",
    "\n",
    "\n",
    "### Nom et prénom\n",
    "\n",
    "\n",
    "Commençons par inscrire votre nom et prénom en tant qu'objet string nom_prenom. Nous utiliserons comme convention :\n",
    "\n",
    "- Un _ séparera le nom et le prénom.\n",
    "\n",
    "Ainsi :\n",
    "\n",
    "- Pour Jean-Pierre Pernault, nom_prenom = 'Pernault_Jean-Pierre'."
   ]
  },
  {
   "cell_type": "code",
   "execution_count": 1,
   "metadata": {},
   "outputs": [],
   "source": [
    "nom_prenom = "
   ]
  },
  {
   "cell_type": "markdown",
   "metadata": {},
   "source": [
    "## Quelques fonction utiles héritées de la séance précédente"
   ]
  },
  {
   "cell_type": "code",
   "execution_count": 3,
   "metadata": {},
   "outputs": [],
   "source": [
    "from qiskit.circuit import Qubit, QuantumRegister, ClassicalRegister, QuantumCircuit\n",
    "from qiskit.providers.basic_provider import BasicProvider\n",
    "backend = BasicProvider().get_backend(\"basic_simulator\")\n",
    "from math import pi\n",
    "\n",
    "def porte_SWAP(circuit, qubits):\n",
    "    \n",
    "    if type(circuit) == QuantumCircuit:\n",
    "        \n",
    "        if len(qubits) == 2:\n",
    "            \n",
    "            if type(qubits[0]) == Qubit and type(qubits[1]) == Qubit:\n",
    "                circuit.cx(qubits[0], qubits[1])\n",
    "                circuit.cx(qubits[1], qubits[0])    \n",
    "                circuit.cx(qubits[0], qubits[1])\n",
    "            \n",
    "            elif type(qubits[0]) == int and type(qubits[1]) == int:\n",
    "                q = circuit.qubits\n",
    "                circuit.cx(q[qubits[0]], q[qubits[1]])\n",
    "                circuit.cx(q[qubits[1]], q[qubits[0]])    \n",
    "                circuit.cx(q[qubits[0]], q[qubits[1]])\n",
    "                \n",
    "    return circuit\n",
    "\n",
    "def do_swaps(circuit, registre):\n",
    "    for i in range(len(registre) // 2) :\n",
    "        circuit = porte_SWAP(circuit, [registre[i], registre[len(registre) - 1 - i]])\n",
    "    return circuit\n",
    "\n",
    "def inverse_R(k, circuit, qubit_controle, qubit_cible):\n",
    "    circuit.cp(-pi/2**k, qubit_controle, qubit_cible)\n",
    "    return circuit\n",
    "\n",
    "def inverse_QFT(circuit, registre, to_swap=True):\n",
    "    \n",
    "    if to_swap:\n",
    "        circuit = do_swaps(circuit, registre)\n",
    "        \n",
    "    for i in range(len(registre)):\n",
    "        i = len(registre) - 1 - i\n",
    "        \n",
    "        for distance in range(len(registre) - i - 1):\n",
    "            distance = distance + 1\n",
    "            circuit = inverse_R(distance, circuit, registre[distance + i], registre[i])\n",
    "            \n",
    "        circuit.h(registre[i])\n",
    "        \n",
    "    return circuit"
   ]
  },
  {
   "attachments": {
    "image.png": {
     "image/png": "[encoded data removed]"
    }
   },
   "cell_type": "markdown",
   "metadata": {},
   "source": [
    "## Estimation de phase\n",
    "\n",
    "L'estimation de phase est un algorithme quantique très particulier et très utilisé pour les méthodes Monte-Carlo quantiques puisqu'il permet de construire un estimateur d'amplitude (cf. *Quantum Amplitude Amplification and Estimation* de Brassard et al., 2000), l'amplitude pouvant contenir des informations sur un problème donné (la probabilité d'obtenir une mesure donnée correspondant à un phénomène physique, d'ingénierie etc.). \n",
    "\n",
    "\n",
    "Nous pouvons le résumer ainsi : supposons que nous ayons un opérateur quantique $U$ qui soit un oracle, i. e. une boîte noire dont nous ne connaissons rien à part un état propre |$\\psi$> mais sans savoir quelle est sa valeur propre :\n",
    "\n",
    "$$U | \\psi> = e^{i \\phi} | \\psi >.$$\n",
    "\n",
    "L'objectif de cet algorithme est d'obtenir cette valeur propre. En pratique, l'algorithme donnera la valeur $z$ telle que $$\\phi = \\frac{2 \\pi \\, z}{2^n}$$\n",
    "\n",
    "avec $n$ le nombre de qubits.\n",
    "\n",
    "![image.png](attachment:image.png)\n",
    "\n",
    "Nous constatons qu'il faut diviser les qubits en deux registres :\n",
    "\n",
    "- un premier registre qui sera le seul mesuré ;\n",
    "- un second registre où sera implémenté l'état quantique $| \\psi >$ de même dimension que le premier registre.\n",
    "\n",
    "Nous décomposerons cette partie en trois sous-parties :\n",
    "\n",
    "- un exemple d'application de l'algorithme d'estimation de phase ;\n",
    "- un exercice-bonus avec pour oracle NOT sur un registre de dimension 1 ;\n",
    "- un exercice-bonus sur un registre de dimension 2.\n",
    "\n",
    "\n",
    "### Exemple d'application de l'algorithme d'estimation de phase\n",
    "\n",
    "Commençons par un exemple d'oracle *exemple_oracle* tel que :\n",
    "\n",
    "- il s'applique sur un registre quantique de dimension 1 ;\n",
    "- il dépend d'un paramètre *z* que nous choisirons arbitrairement ne prenant que les valeurs 0 ou 1 ;\n",
    "- l'état |1> en soit un état propre."
   ]
  },
  {
   "cell_type": "code",
   "execution_count": 2,
   "metadata": {},
   "outputs": [],
   "source": [
    "def exemple_oracle(z, circuit, registre_dim1):\n",
    "    n = len(registre_dim1)\n",
    "    angle = 2 * pi * z / 2**n\n",
    "    circuit.p(angle, registre_dim1)\n",
    "    return circuit"
   ]
  },
  {
   "cell_type": "markdown",
   "metadata": {},
   "source": [
    "Du circuit générique présenté ci-dessus, nous constatons que nous avons besoin de contrôler *exemple_oracle*. Faisons-le manuellement :"
   ]
  },
  {
   "cell_type": "code",
   "execution_count": 2,
   "metadata": {},
   "outputs": [],
   "source": [
    "def c_exemple_oracle(z, circuit, etat_propre_dim1, registre_mesure_dim1):\n",
    "    n = len(registre_mesure_dim1)\n",
    "    angle = 2 * pi * z / 2**n\n",
    "    circuit.cp(angle, registre_mesure_dim1, etat_propre_dim1)\n",
    "    return circuit"
   ]
  },
  {
   "cell_type": "markdown",
   "metadata": {},
   "source": [
    "Etant donné que nous resterons sur deux registres quantiques de dimension 1, il n'y aura pas besoin d'utiliser des puissances de l'oracle. Créons maintenant le circuit quantique *exemple_circ* pour l'estimation de phase :"
   ]
  },
  {
   "cell_type": "code",
   "execution_count": null,
   "metadata": {},
   "outputs": [],
   "source": [
    "n = 1\n",
    "registre_mesure = QuantumRegister(n)\n",
    "registre_etat_propre = QuantumRegister(n)\n",
    "clbits = ClassicalRegister(n)\n",
    "\n",
    "exemple_circ = QuantumCircuit(registre_mesure, clbits)\n",
    "exemple_circ.add_register(registre_etat_propre)"
   ]
  },
  {
   "attachments": {
    "image.png": {
     "image/png": "[encoded data removed]"
    }
   },
   "cell_type": "markdown",
   "metadata": {},
   "source": [
    "La structure du circuit quantique *exemple_circ* est prête, il s'agit maintenant de faire agir l'estimation de phase. Voici le circuit quantique (attention, qft devrait être remplacé par inverse_qft !) :\n",
    "\n",
    "![image.png](attachment:image.png)\n",
    "\n",
    "Il faut bien comprendre que le NOT agissant sur le second qubit prépare l'état propre |1> de notre oracle *exemple_oracle*.\n",
    "\n",
    "**1) Préparez l'état propre.**"
   ]
  },
  {
   "cell_type": "code",
   "execution_count": null,
   "metadata": {},
   "outputs": [],
   "source": []
  },
  {
   "cell_type": "markdown",
   "metadata": {},
   "source": [
    "**2) Appliquez maintenant l'algorithme d'estimation de phase.**"
   ]
  },
  {
   "cell_type": "code",
   "execution_count": null,
   "metadata": {},
   "outputs": [],
   "source": [
    "z = 1"
   ]
  },
  {
   "cell_type": "code",
   "execution_count": null,
   "metadata": {},
   "outputs": [],
   "source": []
  },
  {
   "cell_type": "code",
   "execution_count": null,
   "metadata": {},
   "outputs": [],
   "source": [
    "exemple_circ.draw(output='mpl')"
   ]
  },
  {
   "cell_type": "markdown",
   "metadata": {},
   "source": [
    "**3) Vérifiez que lorsque vous prenez z = 0, vous obtenez en résultat 0, et lorsque vous prenez z = 1, vous obtenez 1.**\n",
    "\n",
    "*Remarque : Faites bien attention à réinitialiser le circuit quantique !*"
   ]
  },
  {
   "cell_type": "code",
   "execution_count": null,
   "metadata": {},
   "outputs": [],
   "source": [
    "exemple = backend.run(exemple_circ, shots=1000).result().get_counts()\n",
    "print(exemple)"
   ]
  },
  {
   "cell_type": "code",
   "execution_count": null,
   "metadata": {},
   "outputs": [],
   "source": [
    "if z%2 == 0:\n",
    "    assert exemple['0'] == 1000\n",
    "    \n",
    "else :\n",
    "    assert exemple['1'] == 1000"
   ]
  },
  {
   "cell_type": "markdown",
   "metadata": {},
   "source": [
    "Ceci correspond à :\n",
    "\n",
    "- soit obtenir une valeur propre $e^{i 0} = 1$ pour z = 0 ;\n",
    "- soit obtenir une valeur propre $e^{i \\pi} = - 1$ pour z = 1."
   ]
  },
  {
   "cell_type": "markdown",
   "metadata": {},
   "source": [
    "### Exercice-bonus : Oracle NOT\n",
    "\n",
    "Nous choisirons cette fois comme oracle la porte NOT qui bien sûr n'agit que sur des registres quantiques de dimension 1. Nous donnerons comme état propre :\n",
    "\n",
    "$$|-> = H (NOT) |0> = Z H |0>.$$\n",
    "\n",
    "**1) Construisez l'oracle contrôlé** *c_NOT* **de la même manière que précédement :**"
   ]
  },
  {
   "cell_type": "code",
   "execution_count": 4,
   "metadata": {},
   "outputs": [],
   "source": [
    "def c_NOT(circuit, etat_propre_dim1, registre_mesure_dim1):\n",
    "    circuit.cx(registre_mesure_dim1, etat_propre_dim1)\n",
    "    return circuit"
   ]
  },
  {
   "cell_type": "markdown",
   "metadata": {},
   "source": [
    "**2) Préparez la structure globale du circuit que nous nommerons** *circ_not :*"
   ]
  },
  {
   "cell_type": "code",
   "execution_count": null,
   "metadata": {},
   "outputs": [],
   "source": []
  },
  {
   "cell_type": "markdown",
   "metadata": {},
   "source": [
    "**3) Préparez l'état propre.**"
   ]
  },
  {
   "cell_type": "code",
   "execution_count": null,
   "metadata": {},
   "outputs": [],
   "source": []
  },
  {
   "cell_type": "markdown",
   "metadata": {},
   "source": [
    "**4) Appliquez maintenant l'algorithme d'estimation de phase.**"
   ]
  },
  {
   "cell_type": "code",
   "execution_count": null,
   "metadata": {},
   "outputs": [],
   "source": []
  },
  {
   "cell_type": "code",
   "execution_count": null,
   "metadata": {},
   "outputs": [],
   "source": [
    "circ_not.draw(output='mpl')"
   ]
  },
  {
   "cell_type": "code",
   "execution_count": null,
   "metadata": {},
   "outputs": [],
   "source": [
    "res_not = backend.run(circ_not, shots=1000).result().get_counts()\n",
    "print(res_not)"
   ]
  },
  {
   "cell_type": "code",
   "execution_count": null,
   "metadata": {},
   "outputs": [],
   "source": [
    "assert res_not['1'] == 1000"
   ]
  },
  {
   "cell_type": "markdown",
   "metadata": {},
   "source": [
    "Le fait qu'on obtienne la valeur 1 pour notre état propre revient à dire que nous obtenons la valeur propre $e^{i \\pi} = -1$.\n",
    "\n",
    "### Exercice-bonus\n",
    "\n",
    "Nous allons maintenant nous arrêter sur un oracle *oracle2* qui peut s'appliquer sur un registre quantique de dimension 2, tels que ses états propres sont les états fondamentaux |00>, |10>, |01>, |11> : "
   ]
  },
  {
   "cell_type": "code",
   "execution_count": null,
   "metadata": {},
   "outputs": [],
   "source": [
    "def oracle2(z, circuit, registre_quantique_dim2):\n",
    "    n = len(registre_quantique_dim2)\n",
    "    angle = 2 * pi * z / 2**n\n",
    "    circuit.p(angle, registre_quantique_dim2[0])\n",
    "    return circuit"
   ]
  },
  {
   "cell_type": "markdown",
   "metadata": {},
   "source": [
    "Cette fois, nous prendrons pour le paramètre $z$ les valeurs entières de 0 à 3.\n",
    "\n",
    "**Construisez l'oracle contrôlée associée** *c_oracle2.*"
   ]
  },
  {
   "cell_type": "code",
   "execution_count": null,
   "metadata": {},
   "outputs": [],
   "source": [
    "def c_oracle2(z, circuit, registre_etat_propre, qubit_controle):\n",
    "    n = len(registre_etat_propre)\n",
    "    angle = 2 * pi * z / 2**n\n",
    "    circuit.cp(angle, qubit_controle, registre_etat_propre[0])\n",
    "    return circuit"
   ]
  },
  {
   "cell_type": "markdown",
   "metadata": {},
   "source": [
    "**Préparez la structure globale du circuit quantique.**"
   ]
  },
  {
   "cell_type": "code",
   "execution_count": null,
   "metadata": {},
   "outputs": [],
   "source": []
  },
  {
   "cell_type": "markdown",
   "metadata": {},
   "source": [
    "**Préparez l'état propre que vous souhaitez.**"
   ]
  },
  {
   "cell_type": "code",
   "execution_count": null,
   "metadata": {},
   "outputs": [],
   "source": []
  },
  {
   "cell_type": "markdown",
   "metadata": {},
   "source": [
    "**Appliquez maintenant l'estimation de phase.**"
   ]
  },
  {
   "cell_type": "code",
   "execution_count": null,
   "metadata": {},
   "outputs": [],
   "source": [
    "z = 2"
   ]
  },
  {
   "cell_type": "code",
   "execution_count": null,
   "metadata": {},
   "outputs": [],
   "source": []
  },
  {
   "cell_type": "code",
   "execution_count": null,
   "metadata": {},
   "outputs": [],
   "source": [
    "circ.draw(output='mpl')"
   ]
  },
  {
   "cell_type": "code",
   "execution_count": null,
   "metadata": {},
   "outputs": [],
   "source": [
    "resultats1 = backend.run(circ, shots=1000).result().get_counts()\n",
    "print(resultats1) #On est dans la convention LSBF !!! Attention !!!!"
   ]
  },
  {
   "cell_type": "markdown",
   "metadata": {},
   "source": [
    "**Amusez-vous à faire varier le paramètre** *z* **puis faites de même avec l'état propre.**\n",
    "\n",
    "*Remarque : une nouvelle fois, n'oubliez pas de réinitialiser le circuit au complet !*"
   ]
  },
  {
   "cell_type": "markdown",
   "metadata": {},
   "source": [
    "## Une première approche des objets Gate\n",
    "\n",
    "Lors de nos différentes séances, nous avions vu comment représenter dans Qiskit les éléments fondamentaux utiles à l'implémentation d'algorithmes quantique. Dans ce cadre, nous avons vu que les opérations quantiques élémentaires se résumaient en des instructions données directement pour des objets QuantumCircuit.\n",
    "\n",
    "Nous allons voir un type d'objet différent, les objets Gate, qui présentent l'avantage d'être plus modulables et se rapprochent de l'idée qu'on se fait d'une porte quantique.\n",
    "\n",
    "\n",
    "### Quelques objets Gate élémentaires\n",
    "\n",
    "Les objets Gate jouent le rôle des portes quantiques. Tout comme les instructions qui nécessitaient des instructions élémentaires déjà implémentées (mettre une porte NOT avec la commande *circuit.x()*, etc.), nous aurons besoin d'un certain nombre d'objets Gate déjà implémentés par Qiskit afin de pouvoir définir les nôtres. \n",
    "\n",
    "Nous allons faire un rapide tour des objets Gate qui nous serons utiles dans ce Jupyter Notebook. Ce seront les objets Gate associés aux portes NOT, Hadamard, CNOT et CU1 **(CP dans la nouvelle version de Qiskit)**. Si jamais vous souhaitez utiliser des portes différentes, je vous conseille de jeter un coup d'oeil à la documentation associée.\n",
    "\n",
    "Commençons par la **porte NOT** représentée par l'objet XGate."
   ]
  },
  {
   "cell_type": "code",
   "execution_count": 2,
   "metadata": {},
   "outputs": [],
   "source": [
    "from qiskit import QuantumRegister, QuantumCircuit\n",
    "\n",
    "q = QuantumRegister(1)\n",
    "circ = QuantumCircuit(q)"
   ]
  },
  {
   "cell_type": "markdown",
   "metadata": {},
   "source": [
    "Nous avons un circuit quantique sur lequel nous souhaitons appliquer une porte NOT. La syntaxe à utiliser est celle-ci pour bien avoir une porte NOT implémentée :"
   ]
  },
  {
   "cell_type": "code",
   "execution_count": 3,
   "metadata": {},
   "outputs": [
    {
     "data": {
      "text/plain": [
       "<qiskit.circuit.instructionset.InstructionSet at 0x234fa70eb40>"
      ]
     },
     "execution_count": 3,
     "metadata": {},
     "output_type": "execute_result"
    }
   ],
   "source": [
    "from qiskit.circuit.library.standard_gates import XGate\n",
    "# from qiskit.extensions.standard.x import XGate\n",
    "\n",
    "circ.append(XGate(), q)"
   ]
  },
  {
   "cell_type": "code",
   "execution_count": 4,
   "metadata": {},
   "outputs": [
    {
     "data": {
      "image/png": "[encoded data removed]",
      "text/plain": [
       "<Figure size 146.507x84.28 with 1 Axes>"
      ]
     },
     "execution_count": 4,
     "metadata": {},
     "output_type": "execute_result"
    }
   ],
   "source": [
    "circ.draw(output='mpl')"
   ]
  },
  {
   "cell_type": "markdown",
   "metadata": {},
   "source": [
    "*Remarque : le deuxième argument du append doit :*\n",
    "\n",
    "- *soit être un registre quantique ;*\n",
    "- *soit être une liste d'objets Qubit ;* \n",
    "- *soit être une liste des indices des qubits du circuit.*\n",
    "\n",
    "*Cela ne peut pas être un objet Qubit seul. Ainsi si vous voulez faire agir votre porte spécifiquement sur q[0], vous devrez donner en argument soit [q[0]], soit [0].*\n",
    "\n",
    "Après la porte NOT, vous allez maintenant appliquer une **porte d'Hadamard** sur ce circuit (je vous laisse deviner la syntaxe)."
   ]
  },
  {
   "cell_type": "code",
   "execution_count": 5,
   "metadata": {},
   "outputs": [
    {
     "data": {
      "text/plain": [
       "<qiskit.circuit.instructionset.InstructionSet at 0x234fb666e00>"
      ]
     },
     "execution_count": 5,
     "metadata": {},
     "output_type": "execute_result"
    }
   ],
   "source": [
    "# from qiskit.extensions.standard.h import HGate\n",
    "from qiskit.circuit.library.standard_gates import HGate\n",
    "\n",
    "circ.append(HGate(), q)"
   ]
  },
  {
   "cell_type": "code",
   "execution_count": 6,
   "metadata": {},
   "outputs": [
    {
     "data": {
      "image/png": "[encoded data removed]",
      "text/plain": [
       "<Figure size 206.707x84.28 with 1 Axes>"
      ]
     },
     "execution_count": 6,
     "metadata": {},
     "output_type": "execute_result"
    }
   ],
   "source": [
    "circ.draw(output='mpl')"
   ]
  },
  {
   "cell_type": "markdown",
   "metadata": {},
   "source": [
    "Nous allons maintenant faire de même pour la **porte CNOT** :"
   ]
  },
  {
   "cell_type": "code",
   "execution_count": 7,
   "metadata": {},
   "outputs": [
    {
     "data": {
      "text/plain": [
       "<qiskit.circuit.instructionset.InstructionSet at 0x234fb791200>"
      ]
     },
     "execution_count": 7,
     "metadata": {},
     "output_type": "execute_result"
    }
   ],
   "source": [
    "# from qiskit.extensions.standard.x import CnotGate\n",
    "from qiskit.circuit.library.standard_gates import CXGate\n",
    "\n",
    "circ.add_register(QuantumRegister(1))\n",
    "\n",
    "circ.append(CXGate(), circ.qubits[0:2])"
   ]
  },
  {
   "cell_type": "code",
   "execution_count": 8,
   "metadata": {},
   "outputs": [
    {
     "data": {
      "text/plain": [
       "[Qubit(QuantumRegister(1, 'q0'), 0), Qubit(QuantumRegister(1, 'q1'), 0)]"
      ]
     },
     "execution_count": 8,
     "metadata": {},
     "output_type": "execute_result"
    }
   ],
   "source": [
    "circ.qubits"
   ]
  },
  {
   "cell_type": "code",
   "execution_count": 9,
   "metadata": {},
   "outputs": [
    {
     "data": {
      "image/png": "[encoded data removed]",
      "text/plain": [
       "<Figure size 267.052x144.48 with 1 Axes>"
      ]
     },
     "execution_count": 9,
     "metadata": {},
     "output_type": "execute_result"
    }
   ],
   "source": [
    "circ.draw(output='mpl')"
   ]
  },
  {
   "cell_type": "markdown",
   "metadata": {},
   "source": [
    "**1) Faites une mesure de ce circuit pour vérifier que vous obtenez bien un état de Bell.**\n",
    "\n",
    "*Remarque : Bien sûr, il ne s'agit pas de l'état de Bell que vous aviez déjà implémenté !*"
   ]
  },
  {
   "cell_type": "code",
   "execution_count": null,
   "metadata": {},
   "outputs": [],
   "source": [
    "from qiskit.circuit import ClassicalRegister\n",
    "from qiskit.providers.basic_provider import BasicProvider\n",
    "backend = BasicProvider().get_backend(\"basic_simulator\")\n",
    "\n",
    "shots = 1000\n",
    "\n",
    "\n",
    "\n",
    "job_bell = "
   ]
  },
  {
   "cell_type": "code",
   "execution_count": null,
   "metadata": {},
   "outputs": [],
   "source": [
    "res_bell = job_bell.result().get_counts()\n",
    "print(res_bell)"
   ]
  },
  {
   "cell_type": "code",
   "execution_count": null,
   "metadata": {},
   "outputs": [],
   "source": [
    "from math import isclose\n",
    "assert isclose(res_bell['00'], shots/2, rel_tol=0.2) and isclose(res_bell['11'], shots/2, rel_tol=0.2)"
   ]
  },
  {
   "cell_type": "markdown",
   "metadata": {},
   "source": [
    "### Exercice\n",
    "\n",
    "**1) Créez maintenant un nouveau circuit** *circ2* **de taille 2 et appliquez :**\n",
    "\n",
    "- *sur le premier qubit un objet Gate qui soit une porte NOT ;* \n",
    "- *puis sur le second qubit un objet Gate qui soit une porte d'Hadamard ;* \n",
    "- *puis un objet Gate qui soit une rotation de phase d'argument* $\\pi$ *contrôlée par le premier qubit sur le second qubit ;*\n",
    "- *puis sur le second qubit un objet Gate qui soit une porte d'Hadamard de nouveau ;*\n",
    "- *enfin, mesurez les deux qubits. Vous nommerez le dictionnaire des résultats mesures*"
   ]
  },
  {
   "cell_type": "code",
   "execution_count": null,
   "metadata": {},
   "outputs": [],
   "source": [
    "from qiskit.circuit.library.standard_gates import CPhaseGate\n",
    "from math import pi\n",
    "\n",
    "shots = 1000\n",
    "\n",
    "circ2 = \n",
    "\n",
    "mesures ="
   ]
  },
  {
   "cell_type": "code",
   "execution_count": null,
   "metadata": {},
   "outputs": [],
   "source": [
    "circ2.draw(output='mpl')"
   ]
  },
  {
   "cell_type": "code",
   "execution_count": null,
   "metadata": {},
   "outputs": [],
   "source": [
    "assert mesures['11'] == 1000"
   ]
  },
  {
   "cell_type": "markdown",
   "metadata": {},
   "source": [
    "## Nos propres objets Gate\n",
    "\n",
    "Nous allons maintenant créer nos propres objets Gate. Pour ce faire, nous aurons deux stratégies possibles :\n",
    "\n",
    "- convertir directement un circuit quantique en objet Gate ;\n",
    "- créer de but en blanc un objet Gate à partir d'autres objets Gate.\n",
    "\n",
    "### Conversion d'un circuit quantique en objet Gate\n",
    "\n",
    "Grâce à la méthode *to_gate()*, il est tout à fait de convertir un circuit quantique en objet Gate. \n",
    "\n",
    "**1) Construisez un circuit quantique** *dummy* **sans bit classique qui reprendra vos instructions unitaires (i. e. sans les mesures) de** *circ2.*"
   ]
  },
  {
   "cell_type": "code",
   "execution_count": null,
   "metadata": {},
   "outputs": [],
   "source": [
    "dummy = "
   ]
  },
  {
   "cell_type": "code",
   "execution_count": null,
   "metadata": {},
   "outputs": [],
   "source": [
    "dummy.draw(output='mpl')"
   ]
  },
  {
   "cell_type": "markdown",
   "metadata": {},
   "source": [
    "Il est maintenant possible de construire un objet Gate *dummy_gate* contenant toute ces instructions unitaires :"
   ]
  },
  {
   "cell_type": "code",
   "execution_count": null,
   "metadata": {},
   "outputs": [],
   "source": [
    "dummy_gate = dummy.to_gate()"
   ]
  },
  {
   "cell_type": "markdown",
   "metadata": {},
   "source": [
    "**2) Appliquez maintenant cet objet Gate sur un nouveau circuit quantique** *circuit.*\n",
    "\n",
    "*Remarque : vous noterez bien que la porte dummy_gate n'a plus de paramètre à mettre en entrée. Tout comme les tuples, elle n'est pas mutable.*"
   ]
  },
  {
   "cell_type": "code",
   "execution_count": null,
   "metadata": {},
   "outputs": [],
   "source": [
    "circuit = "
   ]
  },
  {
   "cell_type": "code",
   "execution_count": null,
   "metadata": {},
   "outputs": [],
   "source": [
    "circuit.draw(output='mpl')"
   ]
  },
  {
   "cell_type": "markdown",
   "metadata": {},
   "source": [
    "Nous pouvons constater que la visualisation est peu explicite puisqu'elle ne montre pas les composantes de l'objet Gate nouvellement créée. Voici la syntaxe pour que cette décomposition soit faite :"
   ]
  },
  {
   "cell_type": "code",
   "execution_count": null,
   "metadata": {},
   "outputs": [],
   "source": [
    "circuit.decompose().draw(output='mpl')"
   ]
  },
  {
   "cell_type": "markdown",
   "metadata": {},
   "source": [
    "**3) Faites maintenant la mesure et vérifiez que cela donne bien le même résultat que pour** *circ2.*"
   ]
  },
  {
   "cell_type": "code",
   "execution_count": null,
   "metadata": {},
   "outputs": [],
   "source": [
    "\n",
    "dummy_mesures = "
   ]
  },
  {
   "cell_type": "code",
   "execution_count": null,
   "metadata": {},
   "outputs": [],
   "source": [
    "circuit.decompose().draw(output='mpl')"
   ]
  },
  {
   "cell_type": "code",
   "execution_count": null,
   "metadata": {},
   "outputs": [],
   "source": [
    "assert dummy_mesures['11'] == 1000"
   ]
  },
  {
   "cell_type": "markdown",
   "metadata": {},
   "source": [
    "### Création d'objets Gate\n",
    "\n",
    "La syntaxe pour crée un objet Gate peut paraître compliquée au premier abord. En fait, il s'agit simplement d'organisation. Ces objets Gate ont des paramètres inaliénables que sont :\n",
    "\n",
    "- le nom de l'objet Gate *name* ;\n",
    "- le nombre de qubits sur lequel s'applique la porte quantique *num_qubits*.\n",
    "\n",
    "Il est possible de rajouter d'autres paramètres, mais nous nous n'aurons pas le temps de le voir. *N'hésitez à revenir vers moi une prochaine fois si cela vous intéresse !*\n",
    "\n",
    "Commençons par créer un objet Gate *DummyGate* qui aura :\n",
    "\n",
    "- pour nom *Dummy Gate* ;\n",
    "- pour nombre de qubits *n* sur lequel il s'applique égal à 1.\n",
    "\n",
    "Nous ne donnerons pour le moment aucune instruction pour cette porte (il s'agit de la partie *def _define*). Autrement dit, elle agira comme la porte Identité sur un qubit :"
   ]
  },
  {
   "cell_type": "code",
   "execution_count": 11,
   "metadata": {},
   "outputs": [],
   "source": [
    "from qiskit.circuit import Gate\n",
    "\n",
    "n = 1\n",
    "\n",
    "class DummyGate(Gate):\n",
    "    \"\"\"Dummy gate.\"\"\"\n",
    "    \n",
    "    def __init__(self):\n",
    "        super().__init__(name=f\"Dummy Gate\", num_qubits=n, params=[])  # C'est ici qu'on dit que la porte agit sur n (1) qubits !\n",
    "        \n",
    "    def _define(self):\n",
    "        definition = []\n",
    "        q = QuantumRegister(n)                       # Nous devons définir un registre quantique générique de la bonne taille\n",
    "        self.definition = definition"
   ]
  },
  {
   "cell_type": "markdown",
   "metadata": {},
   "source": [
    "Vérifions ce que cela donne sur un circuit quantique *(j'avoue ne pas savoir pourquoi la méthode decompose() ne fonctionne pas ici...)* :"
   ]
  },
  {
   "cell_type": "code",
   "execution_count": null,
   "metadata": {},
   "outputs": [],
   "source": [
    "exemple_circuit = QuantumCircuit(1)\n",
    "\n",
    "exemple_circuit.append(DummyGate(), exemple_circuit.qubits)"
   ]
  },
  {
   "cell_type": "code",
   "execution_count": null,
   "metadata": {},
   "outputs": [],
   "source": [
    "exemple_circuit.draw(output='mpl')"
   ]
  },
  {
   "cell_type": "markdown",
   "metadata": {},
   "source": [
    "Reconstruisons maintenant un objet *DummyGate* tel que :\n",
    "\n",
    "- son nom soit toujours *Dummy Gate* ;\n",
    "- il agisse toujours sur un seul qubit ;\n",
    "- il applique une porte d'Hadamard.\n",
    "\n",
    "Voici la syntaxe associée :"
   ]
  },
  {
   "cell_type": "code",
   "execution_count": null,
   "metadata": {},
   "outputs": [],
   "source": [
    "n = 1\n",
    "\n",
    "class DummyGate(Gate):\n",
    "    \"\"\"Dummy gate.\"\"\"\n",
    "    \n",
    "    def __init__(self):\n",
    "        super().__init__(name=f\"Dummy Gate\", num_qubits=n, params=[])\n",
    "        \n",
    "    def _define(self):\n",
    "        q = QuantumRegister(n)  \n",
    "        definition = QuantumCircuit(q)\n",
    "        definition.append(HGate(), [q[0]], [])     # Voici la syntaxe pour rajouter une instruction\n",
    "        self.definition = definition"
   ]
  },
  {
   "cell_type": "markdown",
   "metadata": {},
   "source": [
    "**1) Redéfinissez** *exemple_circuit* **pour que ne soit appliquée que cette version de** *DummyGate.*"
   ]
  },
  {
   "cell_type": "code",
   "execution_count": null,
   "metadata": {},
   "outputs": [],
   "source": [
    "exemple_circuit = "
   ]
  },
  {
   "cell_type": "markdown",
   "metadata": {},
   "source": [
    "*Remarque : cette fois, la méthode decompose() fonctionne.*"
   ]
  },
  {
   "cell_type": "code",
   "execution_count": null,
   "metadata": {},
   "outputs": [],
   "source": [
    "exemple_circuit.decompose().draw(output='mpl')"
   ]
  },
  {
   "cell_type": "markdown",
   "metadata": {},
   "source": [
    "**2) Définissez maintenant un objet Gate** *MonObjetGate* **tel que :**\n",
    "\n",
    "- *son nom soit \"Mon objet Gate\" ;*\n",
    "- *il agisse sur un seul qubit ;*\n",
    "- *il applique une porte d'Hadamard puis une porte NOT ;* \n",
    "\n",
    "**puis redéfinissez de nouveau** *exemple_circuit* **pour appliquer cette porte.**"
   ]
  },
  {
   "cell_type": "code",
   "execution_count": null,
   "metadata": {},
   "outputs": [],
   "source": [
    "class MonObjetGate(Gate):\n",
    "    \"\"\"Mon objet gate.\"\"\"\n",
    "    \n"
   ]
  },
  {
   "cell_type": "code",
   "execution_count": null,
   "metadata": {},
   "outputs": [],
   "source": [
    "exemple_circuit = "
   ]
  },
  {
   "cell_type": "code",
   "execution_count": null,
   "metadata": {},
   "outputs": [],
   "source": [
    "exemple_circuit.decompose().draw(output='mpl')"
   ]
  },
  {
   "cell_type": "markdown",
   "metadata": {},
   "source": [
    "Pour ne pas trop allonger la taille de ce Jupyter Notebook (qui sera déjà suffisamment long), voici un exemple d'objet Gate nommé *PorteBell* dont vous reconnaîtrez l'action et qui permet d'illustrer le cas où *num_qubits* = 2 :)"
   ]
  },
  {
   "cell_type": "code",
   "execution_count": 12,
   "metadata": {},
   "outputs": [],
   "source": [
    "n = 2\n",
    "\n",
    "class PorteBell(Gate):\n",
    "    \"\"\"Porte Bell.\"\"\"\n",
    "    \n",
    "    def __init__(self):\n",
    "        super().__init__(name=f\"Porte Bell\", num_qubits=n, params=[])  \n",
    "        \n",
    "    def _define(self):\n",
    "        q = QuantumRegister(n)\n",
    "        definition = QuantumCircuit(q)\n",
    "        definition.append(HGate(), [q[0]], [])\n",
    "        definition.append(CXGate(), q, [])\n",
    "        self.definition = definition"
   ]
  },
  {
   "cell_type": "code",
   "execution_count": 13,
   "metadata": {},
   "outputs": [
    {
     "data": {
      "text/plain": [
       "<qiskit.circuit.instructionset.InstructionSet at 0x234fb48a940>"
      ]
     },
     "execution_count": 13,
     "metadata": {},
     "output_type": "execute_result"
    }
   ],
   "source": [
    "exemple_circuit = QuantumCircuit(2)\n",
    "\n",
    "exemple_circuit.append(PorteBell(), exemple_circuit.qubits)"
   ]
  },
  {
   "cell_type": "code",
   "execution_count": 14,
   "metadata": {},
   "outputs": [
    {
     "data": {
      "image/png": "[encoded data removed]",
      "text/plain": [
       "<Figure size 206.852x144.48 with 1 Axes>"
      ]
     },
     "execution_count": 14,
     "metadata": {},
     "output_type": "execute_result"
    }
   ],
   "source": [
    "exemple_circuit.decompose().draw(output='mpl')"
   ]
  },
  {
   "cell_type": "markdown",
   "metadata": {},
   "source": [
    "Nous allons maintenant créer une porte telle que le nombre de qubits soit un **paramètre à donner**. Redéfinissons la porte *DummyGate* pour cela telle qu'elle fasse agir une porte XGate sur les qubits d'indices pairs et une porte HGate sur les qubits d'indices impairs  :"
   ]
  },
  {
   "cell_type": "code",
   "execution_count": 15,
   "metadata": {},
   "outputs": [],
   "source": [
    "class DummyGate(Gate):\n",
    "    \"\"\"Dummy gate.\"\"\"\n",
    "    \n",
    "    def __init__(self, num_qubits):\n",
    "        self.num_qubits = num_qubits # Cette variable interne doit être définie pour qu'elle soit prise en compte dans la méthode _define                      \n",
    "        super().__init__(name=f\"Dummy Gate\", num_qubits=num_qubits, params=[]) \n",
    "        \n",
    "    def _define(self):\n",
    "        q = QuantumRegister(self.num_qubits)\n",
    "        definition = QuantumCircuit(q)\n",
    "        for i in range(self.num_qubits):\n",
    "            if i % 2 == 0 :\n",
    "                definition.append(XGate(), [q[i]], [])\n",
    "            else :\n",
    "                definition.append(HGate(), [q[i]], [])\n",
    "        self.definition = definition"
   ]
  },
  {
   "cell_type": "code",
   "execution_count": 16,
   "metadata": {},
   "outputs": [
    {
     "data": {
      "text/plain": [
       "<qiskit.circuit.instructionset.InstructionSet at 0x234fb7c7880>"
      ]
     },
     "execution_count": 16,
     "metadata": {},
     "output_type": "execute_result"
    }
   ],
   "source": [
    "n = 4\n",
    "\n",
    "exemple_circuit = QuantumCircuit(n)\n",
    "\n",
    "exemple_circuit.append(DummyGate(n), exemple_circuit.qubits)"
   ]
  },
  {
   "cell_type": "code",
   "execution_count": 17,
   "metadata": {},
   "outputs": [
    {
     "data": {
      "image/png": "[encoded data removed]",
      "text/plain": [
       "<Figure size 146.797x264.88 with 1 Axes>"
      ]
     },
     "execution_count": 17,
     "metadata": {},
     "output_type": "execute_result"
    }
   ],
   "source": [
    "exemple_circuit.decompose().draw(output='mpl')"
   ]
  },
  {
   "cell_type": "markdown",
   "metadata": {},
   "source": [
    "Nous pratiquons tout ceci lors de la prochaine partie."
   ]
  },
  {
   "cell_type": "markdown",
   "metadata": {},
   "source": [
    "## Gain de modularité\n",
    "\n",
    "Avant de vraiment prendre la main sur les objets Gate, il s'agit de répondre à ces questions : *pourquoi les utiliser ? N'est-ce pas simplement se compliquer la vie ?*\n",
    "\n",
    "La réponse à cette dernière question est évidemment non, et ce pour plusieurs raisons :\n",
    "\n",
    "- si nous souhaitons contrôler un circuit quantique, il faut en fait en reconstruire un au complet ce qui n'est pas le cas pour les objets Gate ;\n",
    "- il est facile d'inverser un objet Gate ;\n",
    "- les méthodes impliquant des objets Gate sont en conséquence bien plus modulables.\n",
    "\n",
    "Nous prendrons dans cette partie deux exemples :\n",
    "\n",
    "- la méthode *do_swaps* contrôlée ;\n",
    "- la méthode *QFT* contrôlée.\n",
    "\n",
    "### La méthode *do_swaps* contrôlée\n",
    "\n",
    "Nous nous souvenons de notre méthode *do_swaps* :"
   ]
  },
  {
   "cell_type": "code",
   "execution_count": 18,
   "metadata": {},
   "outputs": [],
   "source": [
    "def porte_SWAP(circuit, qubits):\n",
    "    \n",
    "    if type(circuit) == QuantumCircuit:\n",
    "        \n",
    "        if len(qubits) == 2:\n",
    "            circuit.cx(qubits[0], qubits[1])\n",
    "            circuit.cx(qubits[1], qubits[0])    \n",
    "            circuit.cx(qubits[0], qubits[1])\n",
    "               \n",
    "    return circuit\n",
    "\n",
    "\n",
    "def do_swaps(circuit, registre):\n",
    "    for i in range(len(registre) // 2) :\n",
    "        circuit = porte_SWAP(circuit, [registre[i], registre[len(registre) - 1 - i]])\n",
    "    return circuit"
   ]
  },
  {
   "cell_type": "markdown",
   "metadata": {},
   "source": [
    "Avant de construire sa version contrôlée, nous construirons l'équivalent de *do_swaps* en objet Gate que nous nommerons DoSwaps.\n",
    "\n",
    "**1) Construisez un objet Gate** *PorteSwap* **qui agisse sur deux qubits et qui fasse un SWAP.**"
   ]
  },
  {
   "cell_type": "code",
   "execution_count": null,
   "metadata": {},
   "outputs": [],
   "source": [
    "class PorteSwap(Gate):\n",
    "    \"\"\"SWAP gate.\"\"\"\n",
    "    \n",
    "    "
   ]
  },
  {
   "cell_type": "code",
   "execution_count": null,
   "metadata": {},
   "outputs": [],
   "source": [
    "exemple_circuit = QuantumCircuit(2)\n",
    "\n",
    "exemple_circuit.append(PorteSwap(), exemple_circuit.qubits)"
   ]
  },
  {
   "cell_type": "code",
   "execution_count": null,
   "metadata": {},
   "outputs": [],
   "source": [
    "exemple_circuit.decompose().draw(output='mpl')"
   ]
  },
  {
   "cell_type": "markdown",
   "metadata": {},
   "source": [
    "**2) Construisez maintenant l'objet Gate** *DoSwaps* **qui prendra en paramètre le nombre de qubits.**"
   ]
  },
  {
   "cell_type": "code",
   "execution_count": null,
   "metadata": {},
   "outputs": [],
   "source": [
    "class DoSwaps(Gate):\n",
    "    \"\"\"Do swaps gate.\"\"\"\n",
    "    \n",
    "    "
   ]
  },
  {
   "cell_type": "code",
   "execution_count": null,
   "metadata": {},
   "outputs": [],
   "source": [
    "n = 5\n",
    "\n",
    "exemple_circuit = QuantumCircuit(n)\n",
    "\n",
    "exemple_circuit.append(DoSwaps(n), exemple_circuit.qubits)"
   ]
  },
  {
   "cell_type": "code",
   "execution_count": null,
   "metadata": {},
   "outputs": [],
   "source": [
    "exemple_circuit.decompose().decompose().draw(output='mpl')"
   ]
  },
  {
   "cell_type": "markdown",
   "metadata": {},
   "source": [
    "Nous pouvons maintenant passer à la version simple contrôlée de *do_swaps*. Pour construire sa version contrôlée, nous aurons besoin d'utiliser la méthode *QuantumCircuit.ccx*, autrement appelée porte de Toffoli qui s'appliquer de cette manière :"
   ]
  },
  {
   "cell_type": "code",
   "execution_count": 19,
   "metadata": {},
   "outputs": [
    {
     "data": {
      "text/plain": [
       "<qiskit.circuit.instructionset.InstructionSet at 0x234fbb9df40>"
      ]
     },
     "execution_count": 19,
     "metadata": {},
     "output_type": "execute_result"
    }
   ],
   "source": [
    "exemple_circuit = QuantumCircuit(3)\n",
    "exemple_q = exemple_circuit.qubits\n",
    "exemple_circuit.ccx(exemple_q[0], exemple_q[1], exemple_q[2])"
   ]
  },
  {
   "cell_type": "code",
   "execution_count": 20,
   "metadata": {},
   "outputs": [
    {
     "data": {
      "image/png": "[encoded data removed]",
      "text/plain": [
       "<Figure size 146.797x204.68 with 1 Axes>"
      ]
     },
     "execution_count": 20,
     "metadata": {},
     "output_type": "execute_result"
    }
   ],
   "source": [
    "exemple_circuit.draw(output='mpl')"
   ]
  },
  {
   "cell_type": "markdown",
   "metadata": {},
   "source": [
    "**3) Construisez une méthode** *c_porte_SWAP* **qui soit une porte SWAP simplement contrôlée.**"
   ]
  },
  {
   "cell_type": "code",
   "execution_count": null,
   "metadata": {},
   "outputs": [],
   "source": [
    "def c_porte_SWAP(circuit, ctrl_qubit, qubits):\n",
    "    \n",
    "    "
   ]
  },
  {
   "cell_type": "code",
   "execution_count": null,
   "metadata": {},
   "outputs": [],
   "source": [
    "exemple_circuit = QuantumCircuit(3)\n",
    "ctrl_qubit = exemple_circuit.qubits[0]\n",
    "exemple_circuit = c_porte_SWAP(exemple_circuit, ctrl_qubit, exemple_circuit.qubits[1:])"
   ]
  },
  {
   "cell_type": "code",
   "execution_count": null,
   "metadata": {},
   "outputs": [],
   "source": [
    "exemple_circuit.draw(output='mpl')"
   ]
  },
  {
   "cell_type": "markdown",
   "metadata": {},
   "source": [
    "**4) Construisez maintenant une méthode** *c_do_swaps* **qui soit la méthode** *do_swaps* **simplement contrôlée.**"
   ]
  },
  {
   "cell_type": "code",
   "execution_count": null,
   "metadata": {},
   "outputs": [],
   "source": [
    "def c_do_swaps(circuit, ctrl_qubit, registre):\n",
    "    \n",
    "    "
   ]
  },
  {
   "cell_type": "code",
   "execution_count": null,
   "metadata": {},
   "outputs": [],
   "source": [
    "n = 5\n",
    "\n",
    "exemple_circuit = QuantumCircuit(n)\n",
    "ctrl_qubit = exemple_circuit.qubits[0]\n",
    "\n",
    "exemple_circuit = c_do_swaps(exemple_circuit, ctrl_qubit, exemple_circuit.qubits[1:])"
   ]
  },
  {
   "cell_type": "code",
   "execution_count": null,
   "metadata": {},
   "outputs": [],
   "source": [
    "exemple_circuit.draw(output='mpl')"
   ]
  },
  {
   "cell_type": "markdown",
   "metadata": {},
   "source": [
    "Nous allons voir maintenant ensemble comment contrôler l'objet Gate *DoSwaps*. Comme vous vous doutez, cela sera très facile, et ce grâce à la méthode *Gate.control()* :"
   ]
  },
  {
   "cell_type": "code",
   "execution_count": null,
   "metadata": {},
   "outputs": [],
   "source": [
    "num_ctrl_qubits = 1 # Il s'agit du nb de qubits qui contrôlent la porte\n",
    "\n",
    "class CDoSwaps(Gate):\n",
    "    \"\"\"Controlled do swaps gate.\"\"\"\n",
    "    \n",
    "    def __init__(self, num_qubits):\n",
    "        self.num_qubits = num_qubits\n",
    "        super().__init__(name=f\"Controlled Do Swaps Gate\", num_qubits=num_qubits, params=[]) \n",
    "        \n",
    "    def _define(self):\n",
    "        q = QuantumRegister(self.num_qubits)\n",
    "        definition = QuantumCircuit(q)\n",
    "        definition.append(DoSwaps(self.num_qubits - num_ctrl_qubits).control(num_ctrl_qubits), q, []) # C'est ici que ça se passe !\n",
    "        self.definition = definition"
   ]
  },
  {
   "cell_type": "code",
   "execution_count": null,
   "metadata": {},
   "outputs": [],
   "source": [
    "n = 5\n",
    "\n",
    "exemple_circuit = QuantumCircuit(n)\n",
    "\n",
    "exemple_circuit.append(CDoSwaps(n), exemple_circuit.qubits)"
   ]
  },
  {
   "cell_type": "code",
   "execution_count": null,
   "metadata": {},
   "outputs": [],
   "source": [
    "exemple_circuit.decompose().draw(output='mpl')"
   ]
  },
  {
   "cell_type": "code",
   "execution_count": null,
   "metadata": {},
   "outputs": [],
   "source": [
    "exemple_circuit.decompose().decompose().draw(output='mpl')"
   ]
  },
  {
   "cell_type": "markdown",
   "metadata": {},
   "source": [
    "Comme nous pouvons le constater, dès le moment que l'objet Gate est créé, il est très simple de le contrôler, et ce par un ou même plusieurs qubits. Si nous voulions généraliser une méthode *mc_do_swaps* avec un nombre de qubits de contrôle supérieur à 1, il faudrait réécrire la méthode au complet en utilisant la méthode *QuantumCircuit.mct* ! Cela peut être un bon entraînement, je vous encourage à le faire dans votre temps libre (quand vous en aurez l'envie bien sûr).\n",
    "\n",
    "\n",
    "Merci encore pour votre attention, votre travail et vos questions !"
   ]
  },
  {
   "cell_type": "code",
   "execution_count": null,
   "metadata": {},
   "outputs": [],
   "source": []
  },
  {
   "cell_type": "code",
   "execution_count": null,
   "metadata": {},
   "outputs": [],
   "source": []
  }
 ],
 "metadata": {
  "kernelspec": {
   "display_name": "Python 3 (ipykernel)",
   "language": "python",
   "name": "python3"
  },
  "language_info": {
   "codemirror_mode": {
    "name": "ipython",
    "version": 3
   },
   "file_extension": ".py",
   "mimetype": "text/x-python",
   "name": "python",
   "nbconvert_exporter": "python",
   "pygments_lexer": "ipython3",
   "version": "3.12.4"
  }
 },
 "nbformat": 4,
 "nbformat_minor": 4
}
