{
 "cells": [
  {
   "cell_type": "markdown",
   "metadata": {},
   "source": [
    "# Séance 1 : Introduction à la programmation quantique\n",
    "\n",
    "## Introduction\n",
    "\n",
    "Nous commencerons à apprivoiser Qiskit à travers ce notebook. Celui-ci a pour objectif de devenir un document de référence (non-exhaustif) pour les prochains cours d'implémentation quantique, et bien sûr vos futurs approfondissements individuels.\n",
    "\n",
    "A travers les méthodes de Qiskit Terra, nous verrons :\n",
    "\n",
    "- Les objets fondamentaux ;\n",
    "- Les opérations fondamentales.\n",
    "\n",
    "\n",
    "### Nom et prénom\n",
    "\n",
    "\n",
    "Commençons par inscrire votre nom et prénom en tant qu'objet string nom_prenom. Nous utiliserons comme convention :\n",
    "\n",
    "- Un _ séparera le nom et le prénom.\n",
    "\n",
    "Ainsi :\n",
    "\n",
    "- Pour Jean-Pierre Pernault, nom_prenom = 'Pernault_Jean-Pierre'.\n",
    "\n",
    "N'oubliez pas également de renommer votre TP lors du rendu !!!"
   ]
  },
  {
   "cell_type": "code",
   "execution_count": 5,
   "metadata": {},
   "outputs": [],
   "source": [
    "nom_prenom = \"Timothé Presles\" #Remplacer par votre nom\n",
    "!pip install qiskit #Si vous n'avez pas encore installé qiskit (sous windows)\n",
    "# !pip install qiskit_ibm_runtime si besoin\n",
    "%matplotlib inline #Pour afficher correctement les circuits quantiques\n",
    "\n",
    "# Les commandes précédées d'un \"!\" ne sont normalement qu'à éxécuter qu'une fois, même après avoir redémarré le kernel"
   ]
  },
  {
   "cell_type": "code",
   "execution_count": 2,
   "metadata": {},
   "outputs": [],
   "source": [
    "from qiskit import QuantumCircuit, transpile \n",
    "\n",
    "#Si la bonne version de Qiskit est installée, cette cellule devrait s'executer sans erreur"
   ]
  },
  {
   "cell_type": "markdown",
   "metadata": {},
   "source": [
    "## Objets fondamentaux\n",
    "\n",
    "Avant même de commencer à implémenter des algorithmes quantiques, il faut être bien sûr capable de représenter dans Qiskit les éléments fondamentaux qui nous seront utiles à cette fin. Dans cette partie, tous les objets et toutes les méthodes seront issues de l'élément Qiskit Terra.\n",
    "\n",
    "Il s'agit :\n",
    "\n",
    "- Des registres quantiques et des qubits ;\n",
    "- Des registres classiques et des bits ;\n",
    "- Des circuits quantiques.\n",
    "\n",
    "### Des registres quantiques et des qubits\n",
    "\n",
    "Les registres quantiques et les qubits sont respectivement représentés dans Qiskit par :\n",
    "\n",
    "- Les objets de type QuantumRegister ;\n",
    "- Les objets de type Qubit.\n",
    "\n",
    "Il est important de savoir qu'un qubit ne peut être défini en-dehors d'un registre quantique. C'est le cas même pour un seul qubit qui doit s'insérer dans un registre quantique de dimension 1 (cf. *Bit et qubit (2)* des diapositives de la séance annexe d'implémentation quantique).\n",
    "\n",
    "Pour définir un registre quantique de dimension 1, il suffit de suivre les lignes de code suivantes :"
   ]
  },
  {
   "cell_type": "code",
   "execution_count": 2,
   "metadata": {},
   "outputs": [],
   "source": [
    "from qiskit.circuit import QuantumRegister, Qubit\n",
    "\n",
    "registre_quantique_dim1 = QuantumRegister(1)"
   ]
  },
  {
   "cell_type": "markdown",
   "metadata": {},
   "source": [
    "L'objet *registre_quantique_dim1* de type QuantumRegister contient un seul qubit représenté par un objet de type Qubit. Qiskit a été écrit tel que les opérations classiques sur les listes fonctionnent aussi sur les objets QuantumRegister :"
   ]
  },
  {
   "cell_type": "code",
   "execution_count": 3,
   "metadata": {},
   "outputs": [
    {
     "name": "stdout",
     "output_type": "stream",
     "text": [
      "True\n"
     ]
    }
   ],
   "source": [
    "print(len(registre_quantique_dim1) == 1)"
   ]
  },
  {
   "cell_type": "code",
   "execution_count": 4,
   "metadata": {},
   "outputs": [
    {
     "name": "stdout",
     "output_type": "stream",
     "text": [
      "True\n"
     ]
    }
   ],
   "source": [
    "print(type(registre_quantique_dim1[0]) == Qubit)"
   ]
  },
  {
   "cell_type": "markdown",
   "metadata": {},
   "source": [
    "**1) A votre avis, comment définit-on un registre quantique de dimension 2 ?**"
   ]
  },
  {
   "cell_type": "code",
   "execution_count": 6,
   "metadata": {},
   "outputs": [
    {
     "name": "stdout",
     "output_type": "stream",
     "text": [
      "True\n"
     ]
    }
   ],
   "source": [
    "registre_quantique = QuantumRegister(2)\n",
    "print(len(registre_quantique) == 2)"
   ]
  },
  {
   "cell_type": "code",
   "execution_count": 7,
   "metadata": {},
   "outputs": [
    {
     "name": "stdout",
     "output_type": "stream",
     "text": [
      "True\n",
      "True\n"
     ]
    }
   ],
   "source": [
    "for i in registre_quantique:\n",
    "    print(type(i) == Qubit)"
   ]
  },
  {
   "cell_type": "markdown",
   "metadata": {},
   "source": [
    "A partir de là, il est important de pouvoir appeler un qubit spécifique dans le registre quantique. Comme nous le disions, la syntaxe est identique à celle des listes. Pour nommer le 2ème qubit de notre registre quantique sous le nom *chat_vivant*, il suffit donc d'écrire :"
   ]
  },
  {
   "cell_type": "code",
   "execution_count": 8,
   "metadata": {},
   "outputs": [],
   "source": [
    "chat_vivant = registre_quantique[1]"
   ]
  },
  {
   "cell_type": "markdown",
   "metadata": {},
   "source": [
    "Une façon alternative (et plus compliquée...) de nommer un qubit est d'employer cette fois une méthode liée à l'objet Qubit :"
   ]
  },
  {
   "cell_type": "code",
   "execution_count": 9,
   "metadata": {},
   "outputs": [],
   "source": [
    "from qiskit.circuit import Qubit\n",
    "\n",
    "chat_mort = Qubit(registre_quantique, 1)"
   ]
  },
  {
   "cell_type": "code",
   "execution_count": 10,
   "metadata": {},
   "outputs": [
    {
     "name": "stdout",
     "output_type": "stream",
     "text": [
      "True Encore un coup de Schroedinger...\n"
     ]
    }
   ],
   "source": [
    "print(chat_vivant == chat_mort)"
   ]
  },
  {
   "cell_type": "markdown",
   "metadata": {},
   "source": [
    "### Des registres classiques et des bits\n",
    "\n",
    "Les registres classiques et les bits sont respectivement représentés dans Qiskit par :\n",
    "\n",
    "- Les objets de type ClassicalRegister ;\n",
    "- Les objets de type Clbit.\n",
    "\n",
    "Idem, nous définissons un registre classique de la manière suivante :"
   ]
  },
  {
   "cell_type": "code",
   "execution_count": 11,
   "metadata": {},
   "outputs": [],
   "source": [
    "from qiskit.circuit import ClassicalRegister, Clbit\n",
    "\n",
    "registre_classique_dim1 = ClassicalRegister(1)"
   ]
  },
  {
   "cell_type": "markdown",
   "metadata": {},
   "source": [
    "Tout ce qui a été dit auparavant est aussi vrai pour les objets de type ClassicalRegister et Clbit.\n",
    "\n",
    "**1) Vérifiez que le registre classique est de dimension 1.**"
   ]
  },
  {
   "cell_type": "code",
   "execution_count": null,
   "metadata": {},
   "outputs": [],
   "source": []
  },
  {
   "cell_type": "markdown",
   "metadata": {},
   "source": [
    "**2) Vérifiez que l'élément dans le registre classique est bien un objet de type Clbit.**"
   ]
  },
  {
   "cell_type": "code",
   "execution_count": null,
   "metadata": {},
   "outputs": [],
   "source": []
  },
  {
   "cell_type": "markdown",
   "metadata": {},
   "source": [
    "**3) Nommez le bit classique contenu dans le registre classique** *clbit* :"
   ]
  },
  {
   "cell_type": "code",
   "execution_count": 8,
   "metadata": {},
   "outputs": [],
   "source": [
    "clbit = "
   ]
  },
  {
   "cell_type": "markdown",
   "metadata": {},
   "source": [
    "**4) Est-ce que la méthode alternative fonctionne pour les objets de type Clbit ?**"
   ]
  },
  {
   "cell_type": "code",
   "execution_count": null,
   "metadata": {},
   "outputs": [],
   "source": [
    "from qiskit.circuit import Clbit\n",
    "\n",
    "shannon ="
   ]
  },
  {
   "cell_type": "code",
   "execution_count": null,
   "metadata": {},
   "outputs": [],
   "source": [
    "print(clbit == shannon)"
   ]
  },
  {
   "cell_type": "markdown",
   "metadata": {},
   "source": [
    "### Des circuits quantiques\n",
    "\n",
    "Les circuits quantiques sont les figures que vous connaissez déjà qui représentent des qubits, des bits et des opérations fondamentales sur ces qubits et bits.\n",
    "\n",
    "Ils sont représentés sur Qiskit comme des objets de type QuantumCircuit. Nous pouvons les définir à partir d'objets de type QuantumRegister et ClassicalRegister :"
   ]
  },
  {
   "cell_type": "code",
   "execution_count": 12,
   "metadata": {},
   "outputs": [],
   "source": [
    "from qiskit.circuit import QuantumCircuit\n",
    "\n",
    "qr = registre_quantique_dim1\n",
    "cr = registre_classique_dim1\n",
    "\n",
    "circuit_quantique = QuantumCircuit(qr, cr)"
   ]
  },
  {
   "cell_type": "markdown",
   "metadata": {},
   "source": [
    "Il est possible de définir un circuit quantique en précisant directement les dimensions respectives de son registre quantique et de son registre classique : "
   ]
  },
  {
   "cell_type": "code",
   "execution_count": 13,
   "metadata": {},
   "outputs": [],
   "source": [
    "num_qubits = 1\n",
    "num_clbits = 1\n",
    "\n",
    "circuit_quantique = QuantumCircuit(num_qubits, num_clbits)"
   ]
  },
  {
   "attachments": {
    "Circuit%20vide.png": {
     "image/png": "[encoded data removed]"
    }
   },
   "cell_type": "markdown",
   "metadata": {},
   "source": [
    "Cela nous donnera comme circuit quantique :\n",
    "\n",
    "![Circuit%20vide.png](attachment:Circuit%20vide.png)\n",
    "\n",
    "Nous pouvons obtenir le nombre respectif de qubits et de bits classiques à partir des méthodes suivantes :"
   ]
  },
  {
   "cell_type": "code",
   "execution_count": 14,
   "metadata": {},
   "outputs": [
    {
     "data": {
      "text/plain": [
       "1"
      ]
     },
     "execution_count": 14,
     "metadata": {},
     "output_type": "execute_result"
    }
   ],
   "source": [
    "circuit_quantique.num_qubits #si cela ne fonctionne pas, tentez n_qubits (cela dépend des versions)"
   ]
  },
  {
   "cell_type": "code",
   "execution_count": 15,
   "metadata": {},
   "outputs": [
    {
     "data": {
      "text/plain": [
       "1"
      ]
     },
     "execution_count": 15,
     "metadata": {},
     "output_type": "execute_result"
    }
   ],
   "source": [
    "circuit_quantique.num_clbits# si cela ne fonctionne pas, tentez n_clbits (cela dépend des versions)\n",
    "# il est possible que cela ne fonctionne pas du tout, mais vous saurez vous débrouiller plus tard!"
   ]
  },
  {
   "cell_type": "markdown",
   "metadata": {},
   "source": [
    "Nous pouvons aussi obtenir les qubits et bits classiques du circuit quantique. Nous obtiendrons une *liste d'objets respectivement de type Qubit et Clbit* à partir des méthodes suivantes :"
   ]
  },
  {
   "cell_type": "code",
   "execution_count": 16,
   "metadata": {},
   "outputs": [],
   "source": [
    "qubits = circuit_quantique.qubits"
   ]
  },
  {
   "cell_type": "code",
   "execution_count": 17,
   "metadata": {},
   "outputs": [],
   "source": [
    "clbits = circuit_quantique.clbits"
   ]
  },
  {
   "cell_type": "markdown",
   "metadata": {},
   "source": [
    "Cela ne changera rien pour nos opérations.\n",
    "\n",
    "Même après avoir construit un circuit quantique, il est possible de rajouter un registre quantique :"
   ]
  },
  {
   "cell_type": "code",
   "execution_count": 20,
   "metadata": {},
   "outputs": [],
   "source": [
    "nouveau_registre_quantique = QuantumRegister(1)\n",
    "\n",
    "circuit_quantique.add_register(nouveau_registre_quantique)"
   ]
  },
  {
   "cell_type": "markdown",
   "metadata": {},
   "source": [
    "**1) Récupérez le nombre de qubits de** *circuit_quantique* **à partir de la méthode précédemment présentée.**"
   ]
  },
  {
   "cell_type": "code",
   "execution_count": 22,
   "metadata": {},
   "outputs": [],
   "source": [
    "n = "
   ]
  },
  {
   "cell_type": "code",
   "execution_count": 23,
   "metadata": {},
   "outputs": [],
   "source": [
    "assert n == len(qr) + len(nouveau_registre_quantique)"
   ]
  },
  {
   "cell_type": "markdown",
   "metadata": {},
   "source": [
    "### Exercice\n",
    "\n",
    "Contrairement au précédent notebook, il n'y aura pas besoin de créer de méthode pour résoudre l'exercice.\n",
    "\n",
    "**1) Créez deux registres quantiques** *qr1 et qr2* **respectivement de dimension 1 et 2.**"
   ]
  },
  {
   "cell_type": "code",
   "execution_count": null,
   "metadata": {},
   "outputs": [],
   "source": [
    "n1 = 1\n",
    "n2 = 2\n",
    "\n",
    "qr1 =\n",
    "qr2 ="
   ]
  },
  {
   "cell_type": "code",
   "execution_count": null,
   "metadata": {},
   "outputs": [],
   "source": [
    "assert type(qr1) == QuantumRegister and len(qr1) == 1\n",
    "assert type(qr2) == QuantumRegister and len(qr2) == 2"
   ]
  },
  {
   "cell_type": "markdown",
   "metadata": {},
   "source": [
    "**2) Créez un circuit quantique** *qc* **contenant le registre quantique** *qr1*."
   ]
  },
  {
   "cell_type": "code",
   "execution_count": null,
   "metadata": {},
   "outputs": [],
   "source": [
    "qc ="
   ]
  },
  {
   "cell_type": "code",
   "execution_count": null,
   "metadata": {},
   "outputs": [],
   "source": [
    "assert qc.qubits == list(qr1)"
   ]
  },
  {
   "cell_type": "markdown",
   "metadata": {},
   "source": [
    "Nous pouvons visualiser notre circuit quantique *qc* à partir de la méthode suivante :"
   ]
  },
  {
   "cell_type": "code",
   "execution_count": null,
   "metadata": {},
   "outputs": [],
   "source": [
    "qc.draw(output='mpl')"
   ]
  },
  {
   "cell_type": "markdown",
   "metadata": {},
   "source": [
    "**3) Rajoutez maintenant le registre quantique** *qr2* **au circuit quantique** *qc*. "
   ]
  },
  {
   "cell_type": "code",
   "execution_count": null,
   "metadata": {},
   "outputs": [],
   "source": []
  },
  {
   "cell_type": "code",
   "execution_count": null,
   "metadata": {},
   "outputs": [],
   "source": [
    "for qubit in qr2:\n",
    "    assert qubit in qc.qubits"
   ]
  },
  {
   "cell_type": "markdown",
   "metadata": {},
   "source": [
    "**4) Récupérez la liste** *q* **des qubits de qc.**"
   ]
  },
  {
   "cell_type": "code",
   "execution_count": null,
   "metadata": {},
   "outputs": [],
   "source": [
    "q ="
   ]
  },
  {
   "cell_type": "code",
   "execution_count": null,
   "metadata": {},
   "outputs": [],
   "source": [
    "assert len(q) == 3"
   ]
  },
  {
   "cell_type": "markdown",
   "metadata": {},
   "source": [
    "**5) Rajoutez un registre classique de dimension 3 au circuit quantique** *qc*."
   ]
  },
  {
   "cell_type": "code",
   "execution_count": 12,
   "metadata": {},
   "outputs": [],
   "source": [
    "qc"
   ]
  },
  {
   "cell_type": "code",
   "execution_count": 14,
   "metadata": {},
   "outputs": [
    {
     "data": {
      "image/png": "[encoded data removed]",
      "text/plain": [
       "<Figure size 113.176x144.48 with 1 Axes>"
      ]
     },
     "execution_count": 14,
     "metadata": {},
     "output_type": "execute_result"
    }
   ],
   "source": [
    "assert len(qc.clbits) == 3\n",
    "qc.draw(output='mpl')"
   ]
  },
  {
   "attachments": {
    "x-2qubits.png": {
     "image/png": "[encoded data removed]"
    }
   },
   "cell_type": "markdown",
   "metadata": {},
   "source": [
    "## Les opérations fondamentales\n",
    "\n",
    "Nous sommes maintenant prêts à faire agir des opérations sur nos circuits quantiques.\n",
    "\n",
    "Celles-ci sont de deux types :\n",
    "\n",
    "- Les portes quantiques ;\n",
    "- Les mesures.\n",
    "\n",
    "Dans cette partie, nous aurons besoin de méthodes de Qiskit Terra et du simulateur en backend.\n",
    "\n",
    "### Les portes quantiques\n",
    "\n",
    "Nous ne serons évidemment pas exhaustif dans cette section. Nous nous intéresserons plus particulièrement aux portes quantiques suivantes :\n",
    "\n",
    "- $X$, $H$, $R_y(\\theta)$ et $U3(\\theta, \\phi, \\lambda)$ agissant sur un seul qubit ;\n",
    "- $CNOT$ agissant sur deux qubits.\n",
    "\n",
    "Nous insistons une nouvelle fois sur le fait que ce n'est pas un cours d'algorithmie quantique. Ainsi, nous ne montrerons pas comment sont représentés matriciellement les portes quantiques que nous utiliserons.\n",
    "\n",
    "Les portes quantiques basiques sont directement intégrées à Qiskit Terra. La syntaxe pour les appeler est toujours la même. Il faut préciser le circuit quantique dans lequel intégrer la porte quantique, sur quel(s) qubit(s) il va agir et le cas échéant, les paramètres qui sont nécessaires.\n",
    "\n",
    "Supposons un circuit quantique nommé *exemple_circ* avec un seul registre quantique *exemple_qr* de dimension 2 (ne faites pas attention au bit classique dans l'image suivante). \n",
    "\n",
    "![x-2qubits.png](attachment:x-2qubits.png)\n",
    "\n",
    "Ainsi avec la ligne de code suivante,"
   ]
  },
  {
   "cell_type": "code",
   "execution_count": 24,
   "metadata": {},
   "outputs": [
    {
     "data": {
      "text/plain": [
       "<qiskit.circuit.instructionset.InstructionSet at 0x1ae52cd4640>"
      ]
     },
     "execution_count": 24,
     "metadata": {},
     "output_type": "execute_result"
    }
   ],
   "source": [
    "exemple_qr = QuantumRegister(2)\n",
    "exemple_circ = QuantumCircuit(exemple_qr)\n",
    "\n",
    "exemple_circ.x(0)"
   ]
  },
  {
   "cell_type": "markdown",
   "metadata": {},
   "source": [
    "nous sommes en train d'intégrer la porte $X$ au circuit quantique *exemple_circ*, et celle-ci agit sur le premier qubit (le premier objet de type Qubit). Une manière alternative de faire la même chose est d'écrire :"
   ]
  },
  {
   "cell_type": "code",
   "execution_count": 25,
   "metadata": {},
   "outputs": [
    {
     "data": {
      "text/plain": [
       "<qiskit.circuit.instructionset.InstructionSet at 0x1ae52cd4310>"
      ]
     },
     "execution_count": 25,
     "metadata": {},
     "output_type": "execute_result"
    }
   ],
   "source": [
    "exemple_circ.x(exemple_qr[0]) "
   ]
  },
  {
   "cell_type": "markdown",
   "metadata": {},
   "source": [
    "ou encore,"
   ]
  },
  {
   "cell_type": "code",
   "execution_count": 26,
   "metadata": {},
   "outputs": [
    {
     "data": {
      "text/plain": [
       "<qiskit.circuit.instructionset.InstructionSet at 0x1ae52cd4a00>"
      ]
     },
     "execution_count": 26,
     "metadata": {},
     "output_type": "execute_result"
    }
   ],
   "source": [
    "exemple_q = exemple_circ.qubits\n",
    "\n",
    "exemple_circ.x(exemple_q[0])"
   ]
  },
  {
   "attachments": {
    "illustration-cumulatif.png": {
     "image/png": "[encoded data removed]"
    }
   },
   "cell_type": "markdown",
   "metadata": {},
   "source": [
    "Nous constatons que si nous donnons un objet de type QuantumRegister ou une liste d'objets de type Qubit ou encore l'indice du qubit, rien ne change pour la méthode intégrée.\n",
    "\n",
    "*Il faut savoir que les méthodes sont cumulatives !* Faire agir la méthode une première fois puis une seconde fois sur le même qubit nous donnera ceci :\n",
    "\n",
    "![illustration-cumulatif.png](attachment:illustration-cumulatif.png)\n",
    "\n",
    "Supposons que nous avons redéfini notre circuit *exemple_circ* tel qu'il soit sans aucune opération quantique. Si jamais nous voulons faire agir la porte $X$ sur plusieurs qubits de *circ*, il y a plusieurs possibilités. Par exemple, si nous souhaitons le faire sur les deux premiers qubits,"
   ]
  },
  {
   "cell_type": "code",
   "execution_count": 27,
   "metadata": {},
   "outputs": [
    {
     "data": {
      "text/plain": [
       "<qiskit.circuit.instructionset.InstructionSet at 0x1ae52cd4520>"
      ]
     },
     "execution_count": 27,
     "metadata": {},
     "output_type": "execute_result"
    }
   ],
   "source": [
    "exemple_circ.x(exemple_q[0])\n",
    "exemple_circ.x(exemple_q[1])"
   ]
  },
  {
   "cell_type": "markdown",
   "metadata": {},
   "source": [
    "ou encore,"
   ]
  },
  {
   "cell_type": "code",
   "execution_count": 28,
   "metadata": {},
   "outputs": [
    {
     "data": {
      "text/plain": [
       "<qiskit.circuit.instructionset.InstructionSet at 0x1ae52cd5b40>"
      ]
     },
     "execution_count": 28,
     "metadata": {},
     "output_type": "execute_result"
    }
   ],
   "source": [
    "exemple_circ.x(range(2))"
   ]
  },
  {
   "cell_type": "markdown",
   "metadata": {},
   "source": [
    "ou encore,"
   ]
  },
  {
   "cell_type": "code",
   "execution_count": 29,
   "metadata": {},
   "outputs": [
    {
     "data": {
      "text/plain": [
       "<qiskit.circuit.instructionset.InstructionSet at 0x1ae52cd4970>"
      ]
     },
     "execution_count": 29,
     "metadata": {},
     "output_type": "execute_result"
    }
   ],
   "source": [
    "exemple_circ.x(exemple_qr)"
   ]
  },
  {
   "cell_type": "markdown",
   "metadata": {},
   "source": [
    "ou finalement,"
   ]
  },
  {
   "cell_type": "code",
   "execution_count": 30,
   "metadata": {},
   "outputs": [
    {
     "data": {
      "text/plain": [
       "<qiskit.circuit.instructionset.InstructionSet at 0x1ae52cd4550>"
      ]
     },
     "execution_count": 30,
     "metadata": {},
     "output_type": "execute_result"
    }
   ],
   "source": [
    "exemple_circ.x(exemple_q[0:2])"
   ]
  },
  {
   "attachments": {
    "multiple-x.png": {
     "image/png": "[encoded data removed]"
    }
   },
   "cell_type": "markdown",
   "metadata": {},
   "source": [
    "etc.\n",
    "\n",
    "Ceci nous donne :\n",
    "\n",
    "![multiple-x.png](attachment:multiple-x.png)\n",
    "\n",
    "Sachez que je ne vous demande pas d'apprendre toutes les façons alternatives d'appliquer une porte quantique basique. Je voulais simplement que vous sachiez que ça existe. Si vous en avez besoin dans le futur, vous pourrez toujours vous référer à ce document. En attendant, choisissez la ou les méthodes qui vous plaisent le plus !\n",
    "\n",
    "A partir de maintenant, je choisis arbitrairement une façon de faire. Pour intégrer une porte de Hadamard $H$ dans le circuit quantique agissant sur le premier qubit, il suffit d'écrire :"
   ]
  },
  {
   "cell_type": "code",
   "execution_count": 31,
   "metadata": {},
   "outputs": [
    {
     "data": {
      "text/plain": [
       "<qiskit.circuit.instructionset.InstructionSet at 0x1ae52cd5ae0>"
      ]
     },
     "execution_count": 31,
     "metadata": {},
     "output_type": "execute_result"
    }
   ],
   "source": [
    "exemple_circ.h(exemple_qr[0])"
   ]
  },
  {
   "attachments": {
    "x-x-h.png": {
     "image/png": "[encoded data removed]"
    }
   },
   "cell_type": "markdown",
   "metadata": {},
   "source": [
    "![x-x-h.png](attachment:x-x-h.png)\n",
    "\n",
    "Pour une porte quantique $R_y(\\theta)$ représentant une rotation selon l'axe $y$ d'angle $\\theta$ agissant sur le second qubit :"
   ]
  },
  {
   "cell_type": "code",
   "execution_count": null,
   "metadata": {},
   "outputs": [],
   "source": [
    "theta = 0\n",
    "\n",
    "exemple_circ.ry(theta, exemple_qr[1])"
   ]
  },
  {
   "attachments": {
    "x-x-h-ry.png": {
     "image/png": "[encoded data removed]"
    }
   },
   "cell_type": "markdown",
   "metadata": {},
   "source": [
    "![x-x-h-ry.png](attachment:x-x-h-ry.png)\n",
    "\n",
    "Pour une porte quantique générale $U3(\\theta, \\phi, \\lambda)$ de paramètres $\\theta$, $\\phi$ et $\\lambda$ agissant sur le premier qubit :"
   ]
  },
  {
   "cell_type": "code",
   "execution_count": null,
   "metadata": {},
   "outputs": [],
   "source": [
    "theta = 0\n",
    "phi = 0\n",
    "lambd = 0\n",
    "\n",
    "exemple_circ.u3(theta, phi, lambd, exemple_qr[0])"
   ]
  },
  {
   "attachments": {
    "x-x-h-ry-u3.png": {
     "image/png": "[encoded data removed]"
    }
   },
   "cell_type": "markdown",
   "metadata": {},
   "source": [
    "![x-x-h-ry-u3.png](attachment:x-x-h-ry-u3.png)\n",
    "\n",
    "Pour la porte $CNOT$ qui agit sur deux qubits, il faut maintenant préciser quel est le qubit de contrôle, i. e. le qubit dont l'action du $X$ dépend de son état, et quel est le qubit-cible, i. e. le qubit sur lequel le $X$ peut agir. La syntaxe est la suivante :"
   ]
  },
  {
   "cell_type": "code",
   "execution_count": null,
   "metadata": {},
   "outputs": [],
   "source": [
    "exemple_circ.cx(qubit_controle, qubit_cible)"
   ]
  },
  {
   "cell_type": "markdown",
   "metadata": {},
   "source": [
    "### Les mesures\n",
    "\n",
    "Cette section sur les mesures peut être décomposée en deux :\n",
    "\n",
    "- L'intégration de l'opération *mesure* dans le circuit quantique (Qiskit Terra) ;\n",
    "- La récolte des résultats.\n",
    "\n",
    "Il est nécessaire d'avoir des bits classiques dans son circuit quantique pour pouvoir appliquer l'opération mesure.\n",
    "\n",
    "Plus précisément, pour chaque qubit mesuré, il faudra un bit classique associé.\n",
    "\n",
    "**1) Créez un circuit quantique** *circ* **ayant un registre quantique** *q* **de dimension 2 et avec un registre classique** *c* **de dimension nécessaire pour mesurer tous les qubits en jeu.**"
   ]
  },
  {
   "cell_type": "code",
   "execution_count": null,
   "metadata": {},
   "outputs": [],
   "source": [
    "q =\n",
    "c =\n",
    "circ ="
   ]
  },
  {
   "cell_type": "code",
   "execution_count": null,
   "metadata": {},
   "outputs": [],
   "source": [
    "assert len(q) == 2\n",
    "assert len(c) == len(q)"
   ]
  },
  {
   "cell_type": "markdown",
   "metadata": {},
   "source": [
    "Pour pouvoir mesurer le premier qubit et associer sa valeur au premier bit, il suffit d'écrire :"
   ]
  },
  {
   "cell_type": "code",
   "execution_count": null,
   "metadata": {},
   "outputs": [],
   "source": [
    "circ.measure(q[0], c[0])"
   ]
  },
  {
   "cell_type": "markdown",
   "metadata": {},
   "source": [
    "Visualisons notre circuit quantique :"
   ]
  },
  {
   "cell_type": "code",
   "execution_count": null,
   "metadata": {},
   "outputs": [],
   "source": [
    "circ.draw(output='mpl')"
   ]
  },
  {
   "cell_type": "markdown",
   "metadata": {},
   "source": [
    "Nous voulons maintenant récolter les résultats de la mesure. Nous aurons cette fois besoin d'un backend qui s'occupe d'émuler les circuits quantiques. Nous irons plus en profondeur lors de la prochaine séance."
   ]
  },
  {
   "cell_type": "code",
   "execution_count": 2,
   "metadata": {
    "scrolled": true
   },
   "outputs": [],
   "source": [
    "from qiskit.providers.basic_provider import BasicProvider\n",
    "backend = BasicProvider().get_backend(\"basic_simulator\")\n",
    "from qiskit.visualization import plot_histogram\n",
    "\n",
    "job = backend.run(circ, shots=1000)\n",
    "\n",
    "result = job.result()\n",
    "\n",
    "qiskit_mesures = result.get_counts(circ)\n",
    "\n",
    "plot_histogram(qiskit_mesures)"
   ]
  },
  {
   "cell_type": "markdown",
   "metadata": {},
   "source": [
    "Après émulation, nous constatons que nous n'avons que l'état |00> après mesure alors que nous n'avons fait agir aucune porte quantique. Autrement dit, par convention, les qubits sont initialement à l'état |0> ."
   ]
  },
  {
   "attachments": {
    "circuit-etat-bell.png": {
     "image/png": "[encoded data removed]"
    }
   },
   "cell_type": "markdown",
   "metadata": {},
   "source": [
    "### Exercice final\n",
    "\n",
    "L'objectif de cet exercice final est de créer un état intriqué nommé état de Bell (il y en a plusieurs). Pour cela, nous allons créer le circuit quantique suivant :\n",
    "\n",
    "![circuit-etat-bell.png](attachment:circuit-etat-bell.png)\n",
    "\n",
    "*Attention : le i-ème qubit est bien associé au i-ème clbit !*"
   ]
  },
  {
   "cell_type": "markdown",
   "metadata": {},
   "source": [
    "**1) Créez un circuit quantique** *circ_final* **composé d'un registre quantique de dimension 2** *qr_final* **et d'un registre classique de dimension 2** *cr_final*."
   ]
  },
  {
   "cell_type": "code",
   "execution_count": 2,
   "metadata": {},
   "outputs": [
    {
     "data": {
      "image/png": "[encoded data removed]",
      "text/plain": [
       "<Figure size 429.828x204.68 with 1 Axes>"
      ]
     },
     "execution_count": 2,
     "metadata": {},
     "output_type": "execute_result"
    }
   ],
   "source": [
    "qr_final =\n",
    "cr_final =\n",
    "circ_final ="
   ]
  },
  {
   "cell_type": "code",
   "execution_count": null,
   "metadata": {},
   "outputs": [],
   "source": [
    "for qubit in qr_final:\n",
    "    assert qubit in circ_final.qubits\n",
    "\n",
    "for clbit in cr_final:\n",
    "    assert clbit in circ_final.clbits"
   ]
  },
  {
   "cell_type": "markdown",
   "metadata": {},
   "source": [
    "**2) Faites agir dans l'ordre :**\n",
    "\n",
    "- **une porte de Hadamard** $H$ **sur le premier qubit ;**\n",
    "- **un** $CNOT$ **avec pour qubit de contrôle le premier qubit et pour qubit-cible le second qubit.**"
   ]
  },
  {
   "cell_type": "code",
   "execution_count": null,
   "metadata": {},
   "outputs": [],
   "source": []
  },
  {
   "cell_type": "code",
   "execution_count": null,
   "metadata": {},
   "outputs": [],
   "source": [
    "circ_final.draw(output='mpl')"
   ]
  },
  {
   "cell_type": "markdown",
   "metadata": {},
   "source": [
    "**3) Rajoutez les mesures.**"
   ]
  },
  {
   "cell_type": "code",
   "execution_count": null,
   "metadata": {},
   "outputs": [],
   "source": []
  },
  {
   "cell_type": "code",
   "execution_count": null,
   "metadata": {},
   "outputs": [],
   "source": [
    "circ_final.draw(output='mpl')"
   ]
  },
  {
   "cell_type": "markdown",
   "metadata": {},
   "source": [
    "A ce niveau-là, vous devriez obtenir la figure présentée au début de l'exercice. Bravo, vous avez fait votre première intrication ! Pour en avoir le coeur net, nous allons exécuter notre circuit quantique dans l'émulateur *qasm_simulator* et regarder l'histogramme en sortie."
   ]
  },
  {
   "cell_type": "code",
   "execution_count": 4,
   "metadata": {},
   "outputs": [],
   "source": [
    "shots = 8096\n",
    "\n",
    "job_final = backend.run(circ_final, shots=shots)\n",
    "\n",
    "mesures_final = job_final.result().get_counts(circ_final)"
   ]
  },
  {
   "cell_type": "code",
   "execution_count": null,
   "metadata": {},
   "outputs": [],
   "source": [
    "from math import isclose\n",
    "assert isclose(mesures_final['00'], shots/2, rel_tol=0.2) and isclose(mesures_final['11'], shots/2, rel_tol=0.2)"
   ]
  },
  {
   "cell_type": "markdown",
   "metadata": {},
   "source": [
    "Traçons l'histogramme associé :"
   ]
  },
  {
   "cell_type": "code",
   "execution_count": null,
   "metadata": {
    "scrolled": true
   },
   "outputs": [],
   "source": [
    "plot_histogram(mesures_final)"
   ]
  },
  {
   "cell_type": "markdown",
   "metadata": {},
   "source": [
    "### Récolte des résultats de mesure\n",
    "\n",
    "Nous avons finalement les résultats des mesures. Nous pouvons maintenant en tirer des informations.\n",
    "\n",
    "**1) Quel est le pourcentage** *p_bell* **de sorties tel que le second qubit** *qr_final[1]* **soit à la valeur 0 après mesure ?**"
   ]
  },
  {
   "cell_type": "code",
   "execution_count": null,
   "metadata": {},
   "outputs": [],
   "source": [
    "p_bell = "
   ]
  },
  {
   "cell_type": "code",
   "execution_count": null,
   "metadata": {},
   "outputs": [],
   "source": [
    "assert isclose(p_bell, 0.5, rel_tol=0.1)"
   ]
  },
  {
   "attachments": {
    "image-2.png": {
     "image/png": "[encoded data removed]"
    }
   },
   "cell_type": "markdown",
   "metadata": {},
   "source": [
    "**2) Pour le circuit quantique suivant, quel est le pourcentage** *p_v* **de sorties tel que le second qubit** *q_v[1]* **soit à la valeur 0 après mesure ?*\n",
    "\n",
    "![image-2.png](attachment:image-2.png)"
   ]
  },
  {
   "cell_type": "code",
   "execution_count": null,
   "metadata": {},
   "outputs": [],
   "source": [
    "p_v = "
   ]
  },
  {
   "cell_type": "code",
   "execution_count": null,
   "metadata": {},
   "outputs": [],
   "source": [
    "assert isclose(p_v, 1, rel_tol=0.1)"
   ]
  },
  {
   "attachments": {
    "image.png": {
     "image/png": "[encoded data removed]"
    }
   },
   "cell_type": "markdown",
   "metadata": {},
   "source": [
    "**3) Pour le circuit quantique suivant, quel est le pourcentage** *p_l* **de sorties tel que le premier qubit** *q_l[0]* **soit à la valeur 0 et le troisième qubit** *q_l[2]* **à la valeur 1 après mesure ?**\n",
    "\n",
    "![image.png](attachment:image.png)"
   ]
  },
  {
   "cell_type": "code",
   "execution_count": null,
   "metadata": {},
   "outputs": [],
   "source": [
    "p_l = "
   ]
  },
  {
   "cell_type": "code",
   "execution_count": null,
   "metadata": {},
   "outputs": [],
   "source": [
    "assert isclose(p_l, 0.5, rel_tol=0.1)"
   ]
  },
  {
   "attachments": {
    "image.png": {
     "image/png": "[encoded data removed]"
    }
   },
   "cell_type": "markdown",
   "metadata": {},
   "source": [
    "### Bonus\n",
    "\n",
    "Une méthode alternative pour trouver *p_bell* (le pourcentage de mesures tel que le second qubit a pour valeur 0) aurait été de ne mesurer que le qubit $q_1$ du circuit quantique *circ_bell* de la manière suivante :\n",
    "\n",
    "![image.png](attachment:image.png)\n",
    "\n",
    "**Vérifiez que le pourcentage** *p_alt* **trouvé par la méthode alternative est bien similaire à** *p_bell* **. Faites attention aux conventions de Qiskit !**"
   ]
  },
  {
   "cell_type": "code",
   "execution_count": 7,
   "metadata": {},
   "outputs": [],
   "source": [
    "p_alt ="
   ]
  },
  {
   "cell_type": "code",
   "execution_count": null,
   "metadata": {},
   "outputs": [],
   "source": [
    "assert isclose(p_alt, p_bell, rel_tol=0.1)"
   ]
  }
 ],
 "metadata": {
  "kernelspec": {
   "display_name": "Python 3 (ipykernel)",
   "language": "python",
   "name": "python3"
  },
  "language_info": {
   "codemirror_mode": {
    "name": "ipython",
    "version": 3
   },
   "file_extension": ".py",
   "mimetype": "text/x-python",
   "name": "python",
   "nbconvert_exporter": "python",
   "pygments_lexer": "ipython3",
   "version": "3.10.9"
  }
 },
 "nbformat": 4,
 "nbformat_minor": 4
}
